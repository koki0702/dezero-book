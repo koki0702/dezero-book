{
 "cells": [
  {
   "cell_type": "markdown",
   "metadata": {
    "colab_type": "text",
    "id": "view-in-github"
   },
   "source": [
    "<a href=\"https://colab.research.google.com/github/koki0702/zerobook3/blob/master/notebook/en/step02.ipynb\" target=\"_parent\"><img src=\"https://colab.research.google.com/assets/colab-badge.svg\" alt=\"Open In Colab\"/></a>"
   ]
  },
  {
   "cell_type": "markdown",
   "metadata": {
    "colab_type": "text",
    "id": "qD_v5BgmSNeK"
   },
   "source": [
    "**The code implemented in the previous step**"
   ]
  },
  {
   "cell_type": "code",
   "execution_count": 1,
   "metadata": {
    "colab": {},
    "colab_type": "code",
    "collapsed": true,
    "id": "1ItduEGlSNeK"
   },
   "outputs": [],
   "source": [
    "import numpy as np\n",
    "\n",
    "class Variable:\n",
    "    def __init__(self, data):\n",
    "        self.data = data"
   ]
  },
  {
   "cell_type": "markdown",
   "metadata": {
    "colab_type": "text",
    "id": "b64KOJJASNeO"
   },
   "source": [
    "***"
   ]
  },
  {
   "cell_type": "markdown",
   "metadata": {
    "colab_type": "text",
    "id": "xP5kwa-3-9Ff"
   },
   "source": [
    "# Step 2: Function to create a variable\n",
    "\n",
    "In the previous step, the `Variable` class can now be used as a \"box\". However, as it stands now, it is \"just a box\". We need a mechanism to turn that \"just a box\" into a \"magic box\". The key to this is the \"function\". In this step, we will consider about function."
   ]
  },
  {
   "cell_type": "markdown",
   "metadata": {
    "colab_type": "text",
    "id": "dWwevlLn-9Fh"
   },
   "source": [
    "## 2.1 What is a function?\n",
    "\n",
    "What is a function? A function is, to put it a little more stiffly, a set of correspondences from one variable to another. As a concrete example, let's consider the function $f(x) = x^2$ that computes the square. In that case, if $y = f(x)$, then the relationship between the variable $y$ and $x$ is determined by the function $f$. That is, the relation \"$y$ is the square of $x$\" is determined by the function $f$.\n",
    "\n",
    "Thus, a function has a role in determining the correspondence between variables. A visual representation of the relationship between variables and functions is shown in **Figure 2-1**.\n",
    "\n",
    "\n",
    "<br>![img2-1](images/1-3.png)\n",
    "\n",
    "**Figure 2-1** Graph showing the relationship between variables and functions<br><br>\n",
    "\n",
    "The relationship between the variables $x$ and $y$ and the function $f$ has been visualized by **Figure 2-1**. In this way, the diagram showing the calculation by the nodes and arrows represented by ○ and □ is called a \"computational graph\". In this document, variables are indicated by orange circles and functions are indicated by light blue squares."
   ]
  },
  {
   "cell_type": "markdown",
   "metadata": {},
   "source": [
    "<div class=\"alert alert-warning\">\n",
    "\n",
    "<b>WARNING</b>\n",
    "\n",
    "When you think of \"graphs,\" you may think of diagrams such as bar charts and pie charts. However, in the field of computer science, a \"graph\" refers to a data structure (and a diagram representing that structure) that consists of nodes and edges.\n",
    "</div>"
   ]
  },
  {
   "cell_type": "markdown",
   "metadata": {
    "colab_type": "text",
    "id": "VDEdYCQZ-9Fh"
   },
   "source": [
    "## 2.2  Function class implementation\n",
    "\n",
    "Now, let's consider the function represented by **Figures 1-3** from a programming perspective. Concretely speaking, we assume that the variables $x$ and $y$ are the `Variable` instances that we just implemented, and implement the function $f$ that can process them as a `Function` class. There are two things to note here.\n",
    "\n",
    " * A method to implement in `Function` class is to take a `Variable` instance as input and a `Variable` instance as output.\n",
    " * The actual data of a `Variable` instance exists in the instance variable `data`.\n",
    "\n",
    "Noting these two points, the `Function` class can be implemented as follows."
   ]
  },
  {
   "cell_type": "code",
   "execution_count": 2,
   "metadata": {
    "colab": {},
    "colab_type": "code",
    "collapsed": true,
    "id": "xKSSjVVx-9Fi"
   },
   "outputs": [],
   "source": [
    "class Function:\n",
    "    def __call__(self, input):\n",
    "        x = input.data  # Get data\n",
    "        y = x ** 2  # Actual calculations\n",
    "        output = Variable(y)  # Return as Variable\n",
    "        return output"
   ]
  },
  {
   "cell_type": "markdown",
   "metadata": {
    "colab_type": "text",
    "id": "2CAW4DM6_LPh"
   },
   "source": [
    "Here, we implement the `__call__` method, as shown above. The `__call__` method takes `input` as an argument, which assumes that a `Variable` instance is given. Therefore, the actual data exists in `input.data`. After retrieving the data, it performs the desired calculation - here, the squared calculation - and returns the result in a \"box\" of `Variable`."
   ]
  },
  {
   "cell_type": "markdown",
   "metadata": {
    "colab_type": "text",
    "id": "eUdpGqxMSNeU"
   },
   "source": [
    "<div class=\"alert alert-info\">\n",
    "\n",
    "<b>NOTE</b>\n",
    "\n",
    "The <code>__call__</code> method is a special Python method. Once this method is defined, if <code>f = Function()</code>, we can call the <code>f(...) </code> to call the <code>__call__</code> method when <code>f = Function(...)</code>.\n",
    "</div>"
   ]
  },
  {
   "cell_type": "markdown",
   "metadata": {
    "colab_type": "text",
    "id": "G3IynNDf-9Fl"
   },
   "source": [
    "## 2.3 Using Function class\n",
    "\n",
    "Let's use the `Function` class. Here, we try to enter the `x` of the `Variable` instance into the `f` of the `Function` instance."
   ]
  },
  {
   "cell_type": "code",
   "execution_count": 3,
   "metadata": {
    "colab": {
     "base_uri": "https://localhost:8080/",
     "height": 52
    },
    "colab_type": "code",
    "id": "z3Tvk94E-9Fm",
    "outputId": "15c4cbc2-9b8c-4781-8301-0510cd5f211b"
   },
   "outputs": [
    {
     "name": "stdout",
     "output_type": "stream",
     "text": [
      "<class '__main__.Variable'>\n",
      "100\n"
     ]
    }
   ],
   "source": [
    "x = Variable(np.array(10))\n",
    "f = Function()\n",
    "y = f(x)\n",
    "\n",
    "print(type(y))  # Get the type of an object using type()\n",
    "print(y.data)"
   ]
  },
  {
   "cell_type": "markdown",
   "metadata": {
    "colab_type": "text",
    "id": "SF7fth8l-9Fo"
   },
   "source": [
    "As described above, we were able to use `Variable` and `Function` in conjunction. The execution results show that the type of `y` is `Variable` and that the data is stored in `y.data`.\n",
    "\n",
    "Now, the class `Function` implemented here is a concrete function to \"square the input value\". Therefore, a specific name such as `Square` is more appropriate. Also, various functions (such as `Sin` and `Exp` functions) will be added in the future. Considering that, it would be better to implement the `Function` class as a base class and have the same functionality as all DeZero functions. Then, we remake the function of DeZero to satisfy the following two points.\n",
    "\n",
    " * The `Function` class is a base class that implements the functions common to all functions.\n",
    " * The specific functions are implemented in classes inheriting from `Function`.\n",
    "\n",
    "Considering the above points, the `Function` class can be implemented as follows."
   ]
  },
  {
   "cell_type": "code",
   "execution_count": 4,
   "metadata": {
    "colab": {},
    "colab_type": "code",
    "collapsed": true,
    "id": "-iB8jSedSiQM"
   },
   "outputs": [],
   "source": [
    "class Function:\n",
    "    def __call__(self, input):\n",
    "        x = input.data\n",
    "        y = self.forward(x)  # The concrete calculation is done at the forward method\n",
    "        output = Variable(y)\n",
    "        return output\n",
    "\n",
    "    def forward(self, x):\n",
    "        raise NotImplementedError()"
   ]
  },
  {
   "cell_type": "markdown",
   "metadata": {
    "colab_type": "text",
    "id": "7-9siB31-9Fp"
   },
   "source": [
    "Here we implement two methods, `__call__` and `forward`. In the `__call__` method, two tasks are performed: to retrieve data from `Variable` and to pack the result into `Variable`. And the specific calculation in between is done by calling the `forward` method. The implementation of the `forward` method is done in the inherited class."
   ]
  },
  {
   "cell_type": "markdown",
   "metadata": {
    "colab_type": "text",
    "id": "oiiMEJDkSNea"
   },
   "source": [
    "<div class=\"alert alert-info\">\n",
    "\n",
    "<b>NOTE</b>\n",
    "\n",
    "The <code>forward</code> method of the <code>Function</code> class raises an exception. By doing so, we appeal to those who have used (or have used) the <code>forward</code> method of the <code>Function</code> class that the method should be inherited and implemented.\n",
    "</div>"
   ]
  },
  {
   "cell_type": "markdown",
   "metadata": {
    "colab_type": "text",
    "id": "EP8MSgGZSNea"
   },
   "source": [
    "Now, let's implement a class that extends the `Function` class and squares the input value. Here, we implement the class name `Square` as follows. We then try to assign the new data to `x` in the code above. It can be written in the following way."
   ]
  },
  {
   "cell_type": "code",
   "execution_count": 5,
   "metadata": {
    "colab": {},
    "colab_type": "code",
    "collapsed": true,
    "id": "UsLmP3Jq-9Fp"
   },
   "outputs": [],
   "source": [
    "class Square(Function):\n",
    "    def forward(self, x):\n",
    "        return x ** 2"
   ]
  },
  {
   "cell_type": "markdown",
   "metadata": {
    "colab_type": "text",
    "id": "vzcHclgl-9Ft"
   },
   "source": [
    "The `Square` class inherits from the `Function` class, so the `__call__` method is inherited. Therefore, the implementation of the `Square` class is complete just by writing the specific calculations in the `forward` method. You can use this `Square` class to handle `Variable` as follows."
   ]
  },
  {
   "cell_type": "code",
   "execution_count": 6,
   "metadata": {
    "colab": {
     "base_uri": "https://localhost:8080/",
     "height": 52
    },
    "colab_type": "code",
    "id": "n0Zk2L4sSNee",
    "outputId": "f5106308-c351-4c2c-9140-c81a6f09e797"
   },
   "outputs": [
    {
     "name": "stdout",
     "output_type": "stream",
     "text": [
      "<class '__main__.Variable'>\n",
      "100\n"
     ]
    }
   ],
   "source": [
    "x = Variable(np.array(10))\n",
    "f = Square()\n",
    "y = f(x)\n",
    "print(type(y))\n",
    "print(y.data)"
   ]
  },
  {
   "cell_type": "markdown",
   "metadata": {
    "colab_type": "text",
    "id": "n6ZHqKKCSNeh"
   },
   "source": [
    "As you can see, we got the same results as before. This concludes the work in step 2. You now have the basics of the `Variable` and `Function` classes!"
   ]
  },
  {
   "cell_type": "markdown",
   "metadata": {
    "colab_type": "text",
    "id": "vo1LdXqsSNeh"
   },
   "source": [
    "<div class=\"alert alert-info\">\n",
    "\n",
    "<b>NOTE</b>\n",
    "\n",
    "For the time being, the input and output of <code>Function</code> will be limited to \"a single variable\". Starting with Step 11, we will extend DeZero to support multiple variables.\n",
    "</div>"
   ]
  }
 ],
 "metadata": {
  "colab": {
   "collapsed_sections": [],
   "name": "step02.ipynb",
   "provenance": []
  },
  "kernelspec": {
   "display_name": "Python 3",
   "language": "python",
   "name": "python3"
  },
  "language_info": {
   "codemirror_mode": {
    "name": "ipython",
    "version": 3
   },
   "file_extension": ".py",
   "mimetype": "text/x-python",
   "name": "python",
   "nbconvert_exporter": "python",
   "pygments_lexer": "ipython3",
   "version": "3.6.9"
  }
 },
 "nbformat": 4,
 "nbformat_minor": 1
}
