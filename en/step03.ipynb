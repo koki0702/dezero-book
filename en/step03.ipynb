{
 "cells": [
  {
   "cell_type": "markdown",
   "metadata": {
    "colab_type": "text",
    "id": "view-in-github"
   },
   "source": [
    "<a href=\"https://colab.research.google.com/github/koki0702/dezero-book/blob/master/en/step03.ipynb\" target=\"_parent\"><img src=\"https://colab.research.google.com/assets/colab-badge.svg\" alt=\"Open In Colab\"/></a>"
   ]
  },
  {
   "cell_type": "markdown",
   "metadata": {
    "colab_type": "text",
    "id": "qD_v5BgmSNeK"
   },
   "source": [
    "**The code implemented in the previous step**"
   ]
  },
  {
   "cell_type": "code",
   "execution_count": 1,
   "metadata": {
    "colab": {},
    "colab_type": "code",
    "collapsed": true,
    "id": "1ItduEGlSNeK"
   },
   "outputs": [],
   "source": [
    "import numpy as np\n",
    "\n",
    "\n",
    "class Variable:\n",
    "    def __init__(self, data):\n",
    "        self.data = data\n",
    "\n",
    "\n",
    "class Function:\n",
    "    def __call__(self, input):\n",
    "        x = input.data\n",
    "        y = self.forward(x)\n",
    "        output = Variable(y)\n",
    "        return output\n",
    "\n",
    "    def forward(self, x):\n",
    "        raise NotImplementedError()\n",
    "\n",
    "\n",
    "class Square(Function):\n",
    "    def forward(self, x):\n",
    "        return x ** 2"
   ]
  },
  {
   "cell_type": "markdown",
   "metadata": {
    "colab_type": "text",
    "id": "b64KOJJASNeO"
   },
   "source": [
    "***"
   ]
  },
  {
   "cell_type": "markdown",
   "metadata": {
    "colab_type": "text",
    "id": "xP5kwa-3-9Ff"
   },
   "source": [
    "# Step 3 Connecting Functions\n",
    "\n",
    "So far, we've created DeZero's variable and functions. Then, in the previous step, we implemented a `Function` class called `Square` that computes the squares. In this step, another new function is implemented and multiple functions are combined to perform a calculation."
   ]
  },
  {
   "cell_type": "markdown",
   "metadata": {},
   "source": [
    "## 3.1 Implementing the Exp function\n",
    "\n",
    "First, we'll implement one new DeZero function. Here, we implement the calculation $y = e^x$ (where $e$ is a Napier number, specifically $e=2.718...$). Let's implement that code right away."
   ]
  },
  {
   "cell_type": "code",
   "execution_count": 2,
   "metadata": {
    "collapsed": true
   },
   "outputs": [],
   "source": [
    "class Exp(Function):\n",
    "    def forward(self, x):\n",
    "        return np.exp(x)"
   ]
  },
  {
   "cell_type": "markdown",
   "metadata": {
    "colab_type": "text",
    "id": "dWwevlLn-9Fh"
   },
   "source": [
    "As in the case of `Square` class, it extends `Function` class and implements the target computation in the `forward` method. The only difference from the `Square` class is that the contents of the `forward` method is changed from `x ** 2` to `np.exp(x)`."
   ]
  },
  {
   "cell_type": "markdown",
   "metadata": {
    "colab_type": "text",
    "id": "AsWiHbbtSNeP"
   },
   "source": [
    "## 3.2 Connecting functions\n",
    "\n",
    "The input and output of the `__call__` method of the `Function` class are both instances of `Variable`. Therefore, it is natural to use DeZero's functions in succession. For example, consider the calculation that $y = (e^{x^2})^2$. In that case, you can write the following code"
   ]
  },
  {
   "cell_type": "code",
   "execution_count": 3,
   "metadata": {},
   "outputs": [
    {
     "name": "stdout",
     "output_type": "stream",
     "text": [
      "1.648721270700128\n"
     ]
    }
   ],
   "source": [
    "A = Square()\n",
    "B = Exp()\n",
    "C = Square()\n",
    "\n",
    "x = Variable(np.array(0.5))\n",
    "a = A(x)\n",
    "b = B(a)\n",
    "y = C(b)\n",
    "print(y.data)"
   ]
  },
  {
   "cell_type": "markdown",
   "metadata": {
    "colab_type": "text",
    "id": "VDEdYCQZ-9Fh"
   },
   "source": [
    "Here is the code that applies three functions -- `A`, `B`, and `C` -- in succession. The important thing to note is that the four variables that appear along the way -- `x`, `a`, `b`, and `y` -- are all instances of `Variable`. Since the input and output of the `__call__` method of the `Function` class are unified in the `Variable` instance, it is possible to apply multiple functions consecutively as described above. Incidentally, the calculations made here can be expressed as a calculation graph with alternating functions and variables, as shown in **Figure 3-1**.\n",
    "\n",
    "<br>![img1-4](images/1-4.png)\n",
    "\n",
    "**Figure 3-1** Computational graph with multiple functions (○ is a variable, □ is a function)<br><br>"
   ]
  },
  {
   "cell_type": "markdown",
   "metadata": {
    "colab": {},
    "colab_type": "text",
    "id": "xKSSjVVx-9Fi"
   },
   "source": [
    "<div class=\"alert alert-info\">\n",
    "\n",
    "<b>NOTE</b>\n",
    "\n",
    "As shown in <b>Figure 3-1</b>, a transformation made by sequentially applying multiple functions can be seen as one large function. This function consisting of multiple functions is called a <b>composition function</b>. The important point here is that even if each of the functions that make up the composite function is a simple calculation, if you apply them consecutively, you can do a more complex calculation.\n",
    "</div>"
   ]
  },
  {
   "cell_type": "markdown",
   "metadata": {
    "colab_type": "text",
    "id": "2CAW4DM6_LPh"
   },
   "source": [
    "By the way, why do we represent a series of calculations as a \"computational graph\"? The answer is that we can efficiently find the derivative of each variable (or, more accurately, we are ready to do so). That algorithm is **backpropagation**. The next step is to extend DeZero so that back-propagation can be achieved."
   ]
  }
 ],
 "metadata": {
  "colab": {
   "collapsed_sections": [],
   "name": "step03.ipynb",
   "provenance": []
  },
  "kernelspec": {
   "display_name": "Python 3",
   "language": "python",
   "name": "python3"
  },
  "language_info": {
   "codemirror_mode": {
    "name": "ipython",
    "version": 3
   },
   "file_extension": ".py",
   "mimetype": "text/x-python",
   "name": "python",
   "nbconvert_exporter": "python",
   "pygments_lexer": "ipython3",
   "version": "3.6.9"
  }
 },
 "nbformat": 4,
 "nbformat_minor": 1
}
