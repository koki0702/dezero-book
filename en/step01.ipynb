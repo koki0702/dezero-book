{
 "cells": [
  {
   "cell_type": "markdown",
   "metadata": {
    "colab_type": "text",
    "id": "view-in-github"
   },
   "source": [
    "<a href=\"https://colab.research.google.com/github/koki0702/dezero-book/blob/master/en/step01.ipynb\" target=\"_parent\"><img src=\"https://colab.research.google.com/assets/colab-badge.svg\" alt=\"Open In Colab\"/></a>"
   ]
  },
  {
   "cell_type": "markdown",
   "metadata": {
    "colab_type": "text",
    "id": "xP5kwa-3-9Ff"
   },
   "source": [
    "# Step 1 Variables as boxes\n",
    "\n",
    "The first step in this book is to create the \"variables\" that are the building blocks of DeZero. This variable is the most important part of DeZero. In this step, we will think about how variables work and implement them in a way that satisfies their function."
   ]
  },
  {
   "cell_type": "markdown",
   "metadata": {
    "colab_type": "text",
    "id": "dWwevlLn-9Fh"
   },
   "source": [
    "## 1.1 What is a variable?\n",
    "\n",
    "Let's jump right in, but what is a variable? In a programming books, variables are described as shown in the image shown in **Figure 1-1**.\n",
    "\n",
    "<br>![box](images/1-1.png)\n",
    "\n",
    "**Figure 1-1** Examples of Variable Descriptions<br><br>\n",
    "\n",
    "As shown in **Figure 1-1**, there is a picture of data in a box, followed by an explanation that the box is a variable. This description of the variable as a \"box\" nicely illustrates (to some extent) the nature of the variable. To sum up the point.\n",
    "\n",
    " - The box and the data are two different things.\n",
    " - The box contains the data (= substitution)\n",
    " - Look inside the box and you'll see the data (= reference)\n",
    "\n",
    "You can say something like this. Let's implement DeZero's variables to match the image of this \"box\"."
   ]
  },
  {
   "cell_type": "markdown",
   "metadata": {
    "colab_type": "text",
    "id": "VDEdYCQZ-9Fh"
   },
   "source": [
    "## 1.2 Variable class implementation\n",
    "\n",
    "Let's implement the variable of DeZero as a `Variable` class. Incidentally, a common coding rule in Python is to capitalize the first letter of a class name. This is stated in a Python coding convention called PEP8.\n",
    "\n",
    "Now, let's implement the `Variable` class as a \"box\". If we were to write that function with minimal code, it would look something like this"
   ]
  },
  {
   "cell_type": "code",
   "execution_count": 1,
   "metadata": {
    "colab": {},
    "colab_type": "code",
    "collapsed": true,
    "id": "xKSSjVVx-9Fi"
   },
   "outputs": [],
   "source": [
    "class Variable:\n",
    "    def __init__(self, data):\n",
    "        self.data = data"
   ]
  },
  {
   "cell_type": "markdown",
   "metadata": {
    "colab_type": "text",
    "id": "G3IynNDf-9Fl"
   },
   "source": [
    "As you can see, we just need to set the arguments given in the initialization to the instance variable `data`. It's very simple code, but you can now use the `Variable` class as a \"box\". This is because the actual data is stored in the `data` of the `Variable`. This will become clearer if you look at the following use case."
   ]
  },
  {
   "cell_type": "code",
   "execution_count": 2,
   "metadata": {
    "colab": {
     "base_uri": "https://localhost:8080/",
     "height": 35
    },
    "colab_type": "code",
    "id": "z3Tvk94E-9Fm",
    "outputId": "bf9bd09e-a228-42ee-90a3-4938380ce800"
   },
   "outputs": [
    {
     "name": "stdout",
     "output_type": "stream",
     "text": [
      "1.0\n"
     ]
    }
   ],
   "source": [
    "import numpy as np\n",
    "\n",
    "data = np.array(1.0)\n",
    "x = Variable(data)\n",
    "print(x.data)"
   ]
  },
  {
   "cell_type": "markdown",
   "metadata": {
    "colab_type": "text",
    "id": "SF7fth8l-9Fo"
   },
   "source": [
    "In this example, we use \"NumPy's multidimensional array\" as the data to be placed in the box. In this case, `x` is a `Variable` instance, and the actual data is in `x`. In other words, `x` is not data, but a being that has data - a box that holds data."
   ]
  },
  {
   "cell_type": "markdown",
   "metadata": {
    "colab_type": "text",
    "id": "mFXbVZXs-9Fo"
   },
   "source": [
    "<div class=\"alert alert-info\">\n",
    "\n",
    "<b>NOTE</b> \n",
    "\n",
    "Machine learning systems use a \"multidimensional array\" for the underlying data structure. Therefore, DeZero's <code>Variable</code> class is designed to handle only NumPy's multidimensional arrays. Note that the class of NumPy's multidimensional array is <code>numpy.ndarray</code> (<code>np.ndarray</code>). This instance can be created by the <code>np.array</code> function, as shown in the code above. From now on in this document, <code>numpy.ndarray</code> instances are simply referred to as <code>ndarray</code> instances.\n",
    "</div>"
   ]
  },
  {
   "cell_type": "markdown",
   "metadata": {
    "colab_type": "text",
    "id": "7-9siB31-9Fp"
   },
   "source": [
    "We then try to assign the new data to `x` in the code above. It can be written in the following way:"
   ]
  },
  {
   "cell_type": "code",
   "execution_count": 3,
   "metadata": {
    "colab": {
     "base_uri": "https://localhost:8080/",
     "height": 35
    },
    "colab_type": "code",
    "id": "UsLmP3Jq-9Fp",
    "outputId": "d093a2a8-9dbe-430a-a32a-d03787d90d0a"
   },
   "outputs": [
    {
     "name": "stdout",
     "output_type": "stream",
     "text": [
      "2.0\n"
     ]
    }
   ],
   "source": [
    "x.data = np.array(2.0)\n",
    "print(x.data)"
   ]
  },
  {
   "cell_type": "markdown",
   "metadata": {
    "colab_type": "text",
    "id": "vzcHclgl-9Ft"
   },
   "source": [
    "As shown here, the new data is assigned by writing `x.data = np.array(2.0)`. Now the `Variable` class can be used as a \"box\".\n",
    "\n",
    "That's all of the implementation we'll be doing in this step. Currently, the `Variable` class has only three lines of code, but we'll use this as a starting point to build DeZero into a modern framework."
   ]
  },
  {
   "cell_type": "markdown",
   "metadata": {
    "colab_type": "text",
    "id": "RkeDbZvL-9Ft"
   },
   "source": [
    "## 1.3 [Supplement] NumPy's multidimensional array\n",
    "\n",
    "Finally, we will briefly supplement NumPy's multidimensional array. A multidimensional array is a data structure in which elements, such as numbers, are gathered in regular rows. A sequence of elements has a \"direction\", which is called a \"dimension\" or \"axis\". **Figure 1-2** shows an example of a multidimensional array.\n",
    "\n",
    "<br>![matrix](images/1-2en.png?raw=1)\n",
    "\n",
    "**Figure 1-2** Example of a multidimensional array<br><br>\n",
    "\n",
    "**Figure 1-2** shows the 0-dimensional array, the 1-dimensional array, and the 2-dimensional array, in order from left to right. They are called scalars, vectors, and matrices. A scalar simply represents a single number. Vectors are numbers along one axis, and matrices are numbers along two axes."
   ]
  },
  {
   "cell_type": "markdown",
   "metadata": {
    "colab_type": "text",
    "id": "Pi_kI9pm-9Ft"
   },
   "source": [
    "<div class=\"alert alert-info\">\n",
    "<b>NOTE</b> \n",
    "\n",
    "Multidimensional arrays are also called <b>tensors</b>. In that case, the examples in <b>Figures 1-2</b> are referred to as the zero-order tensor, the first-order tensor, and the second-order tensor, in order from left to right.\n",
    "</div>"
   ]
  },
  {
   "cell_type": "markdown",
   "metadata": {
    "colab_type": "text",
    "id": "VhpcgN9O-9Fu"
   },
   "source": [
    "The `ndarray` instance of NumPy has an instance variable called `ndim`. `ndim` is an abbreviation of \"number of dimensions\", which means the \"number of dimensions\" of a multi-dimensional array. In practice, it looks like this:"
   ]
  },
  {
   "cell_type": "code",
   "execution_count": 4,
   "metadata": {
    "colab": {
     "base_uri": "https://localhost:8080/",
     "height": 69
    },
    "colab_type": "code",
    "id": "YXTx8oyW-9Fu",
    "outputId": "e3637a47-752d-45f7-d659-1fc610158063"
   },
   "outputs": [
    {
     "name": "stdout",
     "output_type": "stream",
     "text": [
      "0\n",
      "1\n",
      "2\n"
     ]
    }
   ],
   "source": [
    "import numpy as np\n",
    "\n",
    "x = np.array(1)\n",
    "print(x.ndim)\n",
    "\n",
    "x = np.array([1, 2, 3])\n",
    "print(x.ndim)\n",
    "\n",
    "x = np.array([[1, 2, 3], [4, 5, 6]])\n",
    "print(x.ndim)"
   ]
  },
  {
   "cell_type": "markdown",
   "metadata": {
    "colab_type": "text",
    "id": "DNjZTLZz-9Fw"
   },
   "source": [
    "As shown above, the instance variable `ndim` gives us the number of dimensions."
   ]
  },
  {
   "cell_type": "markdown",
   "metadata": {
    "colab_type": "text",
    "id": "kh0cTRDb-9Fx"
   },
   "source": [
    "<div class=\"alert alert-warning\">\n",
    "\n",
    "<b>Warning</b>\n",
    "\n",
    "It is only when dealing with vectors that we need to be careful with the word \"dimension\". For example, <code>np.array([1,2,3])</code> is a vector, which is also referred to as a \"three-dimensional vector\" because it has three elements in a row. This \"dimension of the vector\" refers to the number of elements in the vector. On the other hand, when we say \"three-dimensional array\", the \"dimension of the array\" means that there are three axes (not elements).\n",
    "</div>"
   ]
  }
 ],
 "metadata": {
  "colab": {
   "collapsed_sections": [],
   "name": "step01.ipynb",
   "provenance": [],
   "version": "0.3.2"
  },
  "kernelspec": {
   "display_name": "Python 3",
   "language": "python",
   "name": "python3"
  },
  "language_info": {
   "codemirror_mode": {
    "name": "ipython",
    "version": 3
   },
   "file_extension": ".py",
   "mimetype": "text/x-python",
   "name": "python",
   "nbconvert_exporter": "python",
   "pygments_lexer": "ipython3",
   "version": "3.6.9"
  }
 },
 "nbformat": 4,
 "nbformat_minor": 1
}
