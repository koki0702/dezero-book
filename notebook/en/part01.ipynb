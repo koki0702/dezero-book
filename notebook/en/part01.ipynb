{
 "cells": [
  {
   "cell_type": "markdown",
   "metadata": {},
   "source": [
    "# Stage 1: Automatically compute derivatives\n",
    "\n",
    "In modern science and technology, derivatives are used in a variety of fields. In particular, derivatives play a central role in each area of machine learning, including deep learning. The Deep Learning framework is, so to speak, a tool for computing derivatives. Therefore, the subject of this book is also \"derivatives\" of its own accord. In other words, the main theme is how to find derivatives using a computer.\n",
    "\n",
    "The first stage, which is about to begin, consists of 10 steps in all. In this stage, we create a framework for automatically computing derivatives. The term \"automatically computing derivatives\" here refers to a computer (not a person) asking for derivatives. Specifically, it refers to a system in which, if a calculation (function) is coded, the derivative of the calculation is automatically calculated by a computer.\n",
    "\n",
    "In this stage, we create two classes (`Variable` and `Function` classes) that represent variables and functions in order to get derivatives automatically. Surprisingly, with those two classes, we have a complete foundation for calculating derivatives automatically. By the end of the first stage, you will be able to calculate derivativess of simple calculations (functions) automatically. So, let's move on to the first step of DeZero!"
   ]
  }
 ],
 "metadata": {
  "file_extension": ".py",
  "kernelspec": {
   "display_name": "Python 3.7.5 64-bit",
   "language": "python",
   "name": "python37564bita1a07924d89a4a68923373c700d22cb1"
  },
  "language_info": {
   "codemirror_mode": {
    "name": "ipython",
    "version": 3
   },
   "file_extension": ".py",
   "mimetype": "text/x-python",
   "name": "python",
   "nbconvert_exporter": "python",
   "pygments_lexer": "ipython3",
   "version": "3.7.5"
  },
  "mimetype": "text/x-python",
  "name": "python",
  "npconvert_exporter": "python",
  "pygments_lexer": "ipython3",
  "version": 3
 },
 "nbformat": 4,
 "nbformat_minor": 2
}
