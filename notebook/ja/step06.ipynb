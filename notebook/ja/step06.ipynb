{
 "cells": [
  {
   "cell_type": "markdown",
   "metadata": {
    "colab_type": "text",
    "id": "view-in-github"
   },
   "source": [
    "<a href=\"https://colab.research.google.com/github/koki0702/zerobook3/blob/master/notebook/ja/step06.ipynb\" target=\"_parent\"><img src=\"https://colab.research.google.com/assets/colab-badge.svg\" alt=\"Open In Colab\"/></a>"
   ]
  },
  {
   "cell_type": "markdown",
   "metadata": {
    "colab_type": "text",
    "id": "qD_v5BgmSNeK"
   },
   "source": [
    "## 前ステップまでに実装したコード"
   ]
  },
  {
   "cell_type": "code",
   "execution_count": 0,
   "metadata": {
    "colab": {},
    "colab_type": "code",
    "collapsed": true,
    "id": "1ItduEGlSNeK"
   },
   "outputs": [],
   "source": [
    "import numpy as np\n",
    "\n",
    "\n",
    "class Variable:\n",
    "    def __init__(self, data):\n",
    "        self.data = data\n",
    "\n",
    "\n",
    "class Function:\n",
    "    def __call__(self, input):\n",
    "        x = input.data\n",
    "        y = self.forward(x)\n",
    "        output = Variable(y)\n",
    "        self.input = input\n",
    "        self.output = output\n",
    "        return output\n",
    "\n",
    "    def forward(self, x):\n",
    "        raise NotImplementedError()\n",
    "\n",
    "\n",
    "class Square(Function):\n",
    "    def forward(self, x):\n",
    "        return x ** 2\n",
    "\n",
    "\n",
    "class Exp(Function):\n",
    "    def forward(self, x):\n",
    "        return np.exp(x)\n",
    "\n",
    "\n",
    "def numerical_diff(f, x, eps=1e-4):\n",
    "    x0 = Variable(x.data - eps)\n",
    "    x1 = Variable(x.data + eps)\n",
    "    y0 = f(x0)\n",
    "    y1 = f(x1)\n",
    "    return (y1.data - y0.data) / (2 * eps)"
   ]
  },
  {
   "cell_type": "markdown",
   "metadata": {
    "colab_type": "text",
    "id": "b64KOJJASNeO"
   },
   "source": [
    "***"
   ]
  },
  {
   "cell_type": "markdown",
   "metadata": {
    "colab_type": "text",
    "id": "xP5kwa-3-9Ff"
   },
   "source": [
    "# ステップ6 手作業によるバックプロパゲーション\n",
    "\n",
    "前ステップでは、バックプロパゲーションの仕組みについて説明しました。本ステップでは、これまでの`Variable`と`Function`クラスを拡張して、バックプロパゲーションを用いて微分を求められるように実装していきます。まずは、`Variable`クラスから見ていきます。"
   ]
  },
  {
   "cell_type": "markdown",
   "metadata": {},
   "source": [
    "## 6.1 Variableクラスの追加実装\n",
    "\n",
    "それでは、バックプロパゲーションに対応した`Variable`クラスを実装します。そのためには、通常の値（`data`）に加えて、それに対応する微分した値（`grad`）を持つように拡張します。ここでは、新たに追加したコードをコメントの「`★`」で示します。"
   ]
  },
  {
   "cell_type": "code",
   "execution_count": 1,
   "metadata": {
    "collapsed": true
   },
   "outputs": [],
   "source": [
    "class Variable:\n",
    "    def __init__(self, data):\n",
    "        self.data = data\n",
    "        self.grad = None  # ★（追加したコード）"
   ]
  },
  {
   "cell_type": "markdown",
   "metadata": {},
   "source": [
    "上記のように、新たに`grad`というインスタンス変数を持つようにします。インスタンス変数の`data`と`grad`は、ともにNumPyの多次元配列（`ndarray`）であることを想定します。また、`grad`は`None`で初期化し、逆伝播によって実際に微分が計算されたときに、その値を設定します。\n",
    "\n",
    "<br><div class=\"alert alert-warning\">\n",
    "<b>【注意】</b>ベクトルや行列など、多変数に関する微分は勾配（gradient）と呼びます。そのため`Variable`クラスは、gradientを略した`grad`という変数を持つようにします。\n",
    "</div>"
   ]
  },
  {
   "cell_type": "markdown",
   "metadata": {},
   "source": [
    "## 6.2 Functionクラスの追加実装\n",
    "\n",
    "続いて、`Function`クラスです。ここまでのステップでは、`Function`クラスは通常の計算を行う順伝播（`forward`メソッド）の機能を持っていました。これに加え、次の2つの機能を新たに追加します。\n",
    "\n",
    " * 微分の計算を行う逆伝播の機能（`backward`メソッド）\n",
    " * `forward`メソッドを呼ぶ際に、入力された`Variable`インスタンスを保持する機能\n",
    "\n",
    "この2点を実装したのが、次のコードです。"
   ]
  },
  {
   "cell_type": "code",
   "execution_count": 2,
   "metadata": {
    "collapsed": true
   },
   "outputs": [],
   "source": [
    "class Function:\n",
    "    def __call__(self, input):\n",
    "        x = input.data\n",
    "        y = self.forward(x)\n",
    "        output = Variable(y)\n",
    "        self.input = input           # ★入力された変数を覚える\n",
    "        return output\n",
    "\n",
    "    def forward(self, x):\n",
    "        raise NotImplementedError()\n",
    "\n",
    "    def backward(self, gy):          # ★\n",
    "        raise NotImplementedError()  # ★"
   ]
  },
  {
   "cell_type": "markdown",
   "metadata": {},
   "source": [
    "上のコードで示すとおり、`__call__`メソッドで、入力された`input`をインスタンス変数に設定します。これで、`backward`メソッドが呼ばれるときに、関数に入力した`Variable`インスタンスを`self.input`として使うことができます。"
   ]
  },
  {
   "cell_type": "markdown",
   "metadata": {},
   "source": [
    "## 6.3 SquareとExpクラスの追加実装\n",
    "\n",
    "続いて、具体的な関数の逆伝播（`backward`）を実装します。まずは、2乗の計算を行う`Square`クラスからです。これは、$y=x^2$の微分が$\\frac{dy}{dx} = 2x$となることから、次のように実装できます。"
   ]
  },
  {
   "cell_type": "code",
   "execution_count": 3,
   "metadata": {
    "collapsed": true
   },
   "outputs": [],
   "source": [
    "class Square(Function):\n",
    "    def forward(self, x):\n",
    "        y = x ** 2\n",
    "        return y\n",
    "\n",
    "    def backward(self, gy):\n",
    "        x = self.input.data\n",
    "        gx = 2 * x * gy\n",
    "        return gx"
   ]
  },
  {
   "cell_type": "markdown",
   "metadata": {},
   "source": [
    "上記のように、逆伝播のための`backward`メソッドを追加します。このメソッドの引数`gy`は`ndarray`インスタンスであり、出力側から伝わる微分が渡されます。その引数で渡された微分と「$y=x^2$の微分」を掛け算した値を`backward`メソッドの結果として返します。その返された結果が、さらに入力方向へと伝播していくことになります。\n",
    "\n",
    "続いて、$y=e^x$の計算を行う`Exp`クラスです。これは、$\\frac{dy}{dx} = e^x$であるため、次のように実装できます。"
   ]
  },
  {
   "cell_type": "code",
   "execution_count": 4,
   "metadata": {
    "collapsed": true
   },
   "outputs": [],
   "source": [
    "class Exp(Function):\n",
    "    def forward(self, x):\n",
    "        y = np.exp(x)\n",
    "        return y\n",
    "\n",
    "    def backward(self, gy):\n",
    "        x = self.input.data\n",
    "        gx = np.exp(x) * gy\n",
    "        return gx"
   ]
  },
  {
   "cell_type": "markdown",
   "metadata": {},
   "source": [
    "## 6.4 バックプロパゲーションの実装\n",
    "\n",
    "以上で準備は整いました。ここでは、**図6-1**で表される計算に対して、その微分をバックプロパゲーションで求めてみます。\n",
    "\n",
    "<br>![variable_function](images/1-12.png)\n",
    "<br>**図6-1** バックプロパゲーションを行う対象の合成関数<br><br>\n",
    "\n",
    "まずは、**図6-1**の順伝播のコードを次に示します。"
   ]
  },
  {
   "cell_type": "code",
   "execution_count": 5,
   "metadata": {
    "collapsed": true
   },
   "outputs": [],
   "source": [
    "A = Square()\n",
    "B = Exp()\n",
    "C = Square()\n",
    "\n",
    "x = Variable(np.array(0.5))\n",
    "a = A(x)\n",
    "b = B(a)\n",
    "y = C(b)"
   ]
  },
  {
   "cell_type": "markdown",
   "metadata": {
    "collapsed": true
   },
   "source": [
    "続いて、逆伝播によって`y`の微分を求めます。それには順伝播とは逆の順番で各関数の`backward`メソッドを呼びます。このとき行う逆伝播を計算グラフで表すと、**図6-2**のようになります。\n",
    "\n",
    "<br>![variable_function](images/1-13.png)\n",
    "<br>**図6-2** 逆伝播の計算グラフ<br><br>\n",
    "\n",
    "**図6-2**を見れば、どの順番で、どの関数の`backward`メソッドを呼べばよいかが分かります。また`backward`メソッドの結果を、どの変数の`grad`に設定すればよいかも分かります。それでは、逆伝播の実装を次に示します。"
   ]
  },
  {
   "cell_type": "code",
   "execution_count": 6,
   "metadata": {},
   "outputs": [
    {
     "name": "stdout",
     "output_type": "stream",
     "text": [
      "3.297442541400256\n"
     ]
    }
   ],
   "source": [
    "y.grad = np.array(1.0)\n",
    "b.grad = C.backward(y.grad)\n",
    "a.grad = B.backward(b.grad)\n",
    "x.grad = A.backward(a.grad)\n",
    "print(x.grad)"
   ]
  },
  {
   "cell_type": "markdown",
   "metadata": {},
   "source": [
    "逆伝播は、$\\frac{dy}{dy} = 1$からスタートします。そのため、出力`y`の微分を`np.array(1.0)`に設定します。後は、`C` → `B` → `A`の順で`backward`メソッドを呼ぶだけです。これで各変数に対して微分が求まります。\n",
    "\n",
    "上のコードを実行すると、`x.grad`の結果は3.297442541400256となります。これは`y`の`x`に関する微分です。ちなみに、@<chap>{ch04}の数値微分のときの結果は3.2974426293330694だったので、その2つの結果はほとんど同じであることが分かります。このことから、バックプロパゲーションが正しく実装できていること――より正確には、高い確率で正しく実装できていることが推測されます。\n",
    "\n",
    "以上が、バックプロパゲーションの実装です。正しく実行することはできましたが、私たちは手作業によって――つまり、私たちがコーディングすることによって――`C` → `B` → `A`という逆伝播の順番を指定しました。次のステップでは、この手作業を自動化します。"
   ]
  }
 ],
 "metadata": {
  "colab": {
   "collapsed_sections": [],
   "name": "step06.ipynb",
   "provenance": []
  },
  "kernelspec": {
   "display_name": "Python 3",
   "language": "python",
   "name": "python3"
  },
  "language_info": {
   "codemirror_mode": {
    "name": "ipython",
    "version": 3
   },
   "file_extension": ".py",
   "mimetype": "text/x-python",
   "name": "python",
   "nbconvert_exporter": "python",
   "pygments_lexer": "ipython3",
   "version": "3.6.9"
  }
 },
 "nbformat": 4,
 "nbformat_minor": 1
}
