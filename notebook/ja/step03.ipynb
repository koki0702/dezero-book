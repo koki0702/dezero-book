{
 "cells": [
  {
   "cell_type": "markdown",
   "metadata": {
    "colab_type": "text",
    "id": "view-in-github"
   },
   "source": [
    "<a href=\"https://colab.research.google.com/github/koki0702/zerobook3/blob/master/notebook/ja/step03.ipynb\" target=\"_parent\"><img src=\"https://colab.research.google.com/assets/colab-badge.svg\" alt=\"Open In Colab\"/></a>"
   ]
  },
  {
   "cell_type": "markdown",
   "metadata": {
    "colab_type": "text",
    "id": "qD_v5BgmSNeK"
   },
   "source": [
    "## 前ステップまでに実装したコード"
   ]
  },
  {
   "cell_type": "code",
   "execution_count": 1,
   "metadata": {
    "colab": {},
    "colab_type": "code",
    "collapsed": true,
    "id": "1ItduEGlSNeK"
   },
   "outputs": [],
   "source": [
    "import numpy as np\n",
    "\n",
    "\n",
    "class Variable:\n",
    "    def __init__(self, data):\n",
    "        self.data = data\n",
    "\n",
    "\n",
    "class Function:\n",
    "    def __call__(self, input):\n",
    "        x = input.data\n",
    "        y = self.forward(x)\n",
    "        output = Variable(y)\n",
    "        return output\n",
    "\n",
    "    def forward(self, x):\n",
    "        raise NotImplementedError()\n",
    "\n",
    "\n",
    "class Square(Function):\n",
    "    def forward(self, x):\n",
    "        return x ** 2"
   ]
  },
  {
   "cell_type": "markdown",
   "metadata": {
    "colab_type": "text",
    "id": "b64KOJJASNeO"
   },
   "source": [
    "***"
   ]
  },
  {
   "cell_type": "markdown",
   "metadata": {
    "colab_type": "text",
    "id": "xP5kwa-3-9Ff"
   },
   "source": [
    "# ステップ3 関数の連結\n",
    "\n",
    "ここまで私たちは、DeZeroの「変数」と「関数」を作ってきました。そして、前ステップでは、`Square`という2乗の計算を行う関数クラスを実装しました。本ステップでは、別の新しい関数を実装し、複数の関数を組み合わせて計算を行います。"
   ]
  },
  {
   "cell_type": "markdown",
   "metadata": {},
   "source": [
    "## 3.1 Exp関数の実装\n",
    "\n",
    "まずは、DeZeroの新しい関数を1つ実装します。ここでは、$y = e^x$という計算を実装します（$e$はネイピア数で、具体的には$e=2.718...$という値です）。早速そのコードを実装しましょう。"
   ]
  },
  {
   "cell_type": "code",
   "execution_count": 2,
   "metadata": {
    "collapsed": true
   },
   "outputs": [],
   "source": [
    "class Exp(Function):\n",
    "    def forward(self, x):\n",
    "        return np.exp(x)"
   ]
  },
  {
   "cell_type": "markdown",
   "metadata": {
    "colab_type": "text",
    "id": "dWwevlLn-9Fh"
   },
   "source": [
    "`Square`クラスのときと同様に、`Function`クラスを継承して`forward`メソッドに目的の計算を実装します。`Square`クラスと異なるのは、`forward`メソッドの中身が`x ** 2`から`np.exp(x)`に変わった点だけです。"
   ]
  },
  {
   "cell_type": "markdown",
   "metadata": {
    "colab_type": "text",
    "id": "AsWiHbbtSNeP"
   },
   "source": [
    "## 3.2 関数を連結する\n",
    "\n",
    "`Function`クラスの`__call__`メソッドの入力と出力は、ともに`Variable`インスタンスです。そのため、DeZeroの関数を連続して使用することは自然にできます。たとえば、$y = (e^{x^2})^2$という計算を考えてみましょう。その場合、次のようなコードを書くことができます。"
   ]
  },
  {
   "cell_type": "code",
   "execution_count": 3,
   "metadata": {},
   "outputs": [
    {
     "name": "stdout",
     "output_type": "stream",
     "text": [
      "1.648721270700128\n"
     ]
    }
   ],
   "source": [
    "A = Square()\n",
    "B = Exp()\n",
    "C = Square()\n",
    "\n",
    "x = Variable(np.array(0.5))\n",
    "a = A(x)\n",
    "b = B(a)\n",
    "y = C(b)\n",
    "print(y.data)"
   ]
  },
  {
   "cell_type": "markdown",
   "metadata": {
    "colab_type": "text",
    "id": "VDEdYCQZ-9Fh"
   },
   "source": [
    "ここでは、3つの関数――`A`、`B`、`C`――を連続して適用するコードが示されています。重要な点は、途中に登場する4つの変数――`x`、`a`、`b`、`y`――はすべて`Variable`インスタンスだということです。`Function`クラスの`__call__`メソッドの入出力が`Variable`インスタンスで統一されているため、上記のように複数の関数を連続して適用できます。ちなみに、ここで行った計算は、**図3-1**のように、関数と変数が交互に並ぶ計算グラフで表すことができます。\n",
    "\n",
    "<br>![variable_function](images/1-4.png)\n",
    "<br>**図3-1** 複数の関数による計算グラフ（○は変数、□は関数）<br><br>"
   ]
  },
  {
   "cell_type": "markdown",
   "metadata": {
    "colab": {},
    "colab_type": "code",
    "id": "xKSSjVVx-9Fi"
   },
   "source": [
    "<div class=\"alert alert-info\">\n",
    "<b>【ノート】</b><b>図3-1</b>のように、複数の関数を順に適用して作られる変換は、1つの大きな関数と見ることができます。この複数の関数によって構成される関数は、<b>合成関数</b>と呼ばれます。ここで重要な点は、合成関数を構成する各関数が単純な計算であったとしても、それらを連続して適用すれば、より複雑な計算が行えるということです。\n",
    "</div>"
   ]
  },
  {
   "cell_type": "markdown",
   "metadata": {
    "colab_type": "text",
    "id": "2CAW4DM6_LPh"
   },
   "source": [
    "ところで、なぜ私たちは一連の計算を「計算グラフ」として表すのでしょうか？ その答えは、各変数の微分を効率良く求めることができる（正確には、その準備が整う）からです。そのアルゴリズムが**バックプロパゲーション（誤差逆伝播法）**です。次のステップからは、バックプロパゲーションが実現できるように、DeZeroを拡張していきます。"
   ]
  }
 ],
 "metadata": {
  "colab": {
   "collapsed_sections": [],
   "name": "step03.ipynb",
   "provenance": []
  },
  "kernelspec": {
   "display_name": "Python 3",
   "language": "python",
   "name": "python3"
  },
  "language_info": {
   "codemirror_mode": {
    "name": "ipython",
    "version": 3
   },
   "file_extension": ".py",
   "mimetype": "text/x-python",
   "name": "python",
   "nbconvert_exporter": "python",
   "pygments_lexer": "ipython3",
   "version": "3.6.9"
  }
 },
 "nbformat": 4,
 "nbformat_minor": 1
}
