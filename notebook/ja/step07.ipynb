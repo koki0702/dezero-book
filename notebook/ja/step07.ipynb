{
 "cells": [
  {
   "cell_type": "markdown",
   "metadata": {
    "colab_type": "text",
    "id": "view-in-github"
   },
   "source": [
    "<a href=\"https://colab.research.google.com/github/koki0702/zerobook3/blob/master/notebook/ja/step07.ipynb\" target=\"_parent\"><img src=\"https://colab.research.google.com/assets/colab-badge.svg\" alt=\"Open In Colab\"/></a>"
   ]
  },
  {
   "cell_type": "markdown",
   "metadata": {
    "colab_type": "text",
    "id": "qD_v5BgmSNeK"
   },
   "source": [
    "## 前ステップまでに実装したコード"
   ]
  },
  {
   "cell_type": "code",
   "execution_count": 1,
   "metadata": {
    "colab": {},
    "colab_type": "code",
    "collapsed": true,
    "id": "1ItduEGlSNeK"
   },
   "outputs": [],
   "source": [
    "import numpy as np\n",
    "\n",
    "\n",
    "class Variable:\n",
    "    def __init__(self, data):\n",
    "        self.data = data\n",
    "        self.grad = None\n",
    "\n",
    "\n",
    "class Function:\n",
    "    def __call__(self, input):\n",
    "        x = input.data\n",
    "        y = self.forward(x)\n",
    "        output = Variable(y)\n",
    "        self.input = input\n",
    "        return output\n",
    "\n",
    "    def forward(self, x):\n",
    "        raise NotImplementedError()\n",
    "\n",
    "    def backward(self, gy):\n",
    "        raise NotImplementedError()\n",
    "\n",
    "\n",
    "class Square(Function):\n",
    "    def forward(self, x):\n",
    "        y = x ** 2\n",
    "        return y\n",
    "\n",
    "    def backward(self, gy):\n",
    "        x = self.input.data\n",
    "        gx = 2 * x * gy\n",
    "        return gx\n",
    "\n",
    "\n",
    "class Exp(Function):\n",
    "    def forward(self, x):\n",
    "        y = np.exp(x)\n",
    "        return y\n",
    "\n",
    "    def backward(self, gy):\n",
    "        x = self.input.data\n",
    "        gx = np.exp(x) * gy\n",
    "        return gx"
   ]
  },
  {
   "cell_type": "markdown",
   "metadata": {
    "colab_type": "text",
    "id": "b64KOJJASNeO"
   },
   "source": [
    "***"
   ]
  },
  {
   "cell_type": "markdown",
   "metadata": {
    "colab_type": "text",
    "id": "xP5kwa-3-9Ff"
   },
   "source": [
    "# ステップ7 バックプロパゲーションの自動化\n",
    "\n",
    "前ステップで、バックプロパゲーションを動かすことには成功しました。しかし、そこでは逆伝播の計算を手作業でコーディングする必要がありました。これが意味するのは、新しい計算を行うたびに、私たち自身の手で逆伝播用のコードを書く必要があるということです。たとえば**図7-1**のようないくつかの計算グラフを考えた場合、それぞれの計算で逆伝播のためのコードを手作業で書かなければなりません。それはミスが起きる可能性があり、何よりも退屈な作業です。退屈なことはPythonにやらせましょう！\n",
    "\n",
    "<br>![img](images/1-14.png)\n",
    "<br>**図7-1** 様々な計算グラフの例（変数名は省略し、関数をクラス名で記す）<br><br>\n",
    "\n",
    "次に進むべき道は、逆伝播の自動化です。より正確に言えば、通常の計算（順伝播）を行えば――たとえ、それがどのような計算であったとしても――その逆伝播が自動で行われる仕組みを作ることです。いよいよこれからが、Define-by-Runの核心に触れる場所になります！\n",
    "\n",
    "<br><div class=\"alert alert-info\">\n",
    "<b>【ノート】</b> Define-by-Runとは、ディープラーニングで行う計算の「つながり」を、計算を行うタイミングで作る仕組みのことです。これは「動的計算グラフ」とも呼ばれます。Define-by-Runについて、またその利点については「コラム Define-by-Run」で詳しく説明します。\n",
    "</div><br>\n",
    "\n",
    "ところで、**図7-1**で示した計算グラフは、どれもが一直線に並んだ計算です。そのため、関数の順番をリストの形で保持すれば、後は、それを逆向きに辿ることで、逆伝播を自動で行えます。しかし、枝分かれした計算グラフや、変数が複数回利用されるような複雑な計算グラフに関しては、単純なリストによる手法は使えません。私たちのこれからの目標は、どれだけ複雑な計算グラフであったとしても、自動で逆伝播できる仕組みを構築することです。\n",
    "\n",
    "<br><div class=\"alert alert-warning\">\n",
    "<b>【注意】</b> 実は、リストのデータ構造を工夫すれば、行った計算をリストに追加していくだけで、任意の計算グラフに対して逆伝播を正しく行うことも可能です。そのデータ構造は、Wengertリストと呼ばれます（または「テープ」とも呼ばれます）。本書では、Wengertリストについての説明は行いません。Wengertリストに興味のある方は文献<a href=\"https://dl.acm.org/doi/10.1145/355586.364791\">[2]</a> <a href=\"http://www.cs.cmu.edu/~wcohen/10-605/notes/autodiff.pdf\">[3]</a>などを参考にしてください。また、Wengertリストに対するDefine-by-Runの利点は、文献<a href=\"https://openreview.net/pdf?id=BJJsrmfCZ\">[4]</a>などを参考にしてください。\n",
    "</div>\n"
   ]
  },
  {
   "cell_type": "markdown",
   "metadata": {},
   "source": [
    "## 7.2 逆伝播の自動化のために\n",
    "\n",
    "逆伝播を自動化するにあたり、変数と関数の関係性について考えるところからスタートします。まずは、関数の視点から、つまりは「関数から変数はどのように見えるか」ということについて考えます。関数から見ると、変数は「入力」と「出力」として存在します。**図7-2**の左図に示すように、関数にとって変数は「入力された変数（`input`）」と「出力した変数（`output`）」として存在します（図の破線は参照を示します）。\n",
    "\n",
    "<br>![img](images/1-15.png)\n",
    "<br>**図7-2** 関数から見た変数との関係性（左図）と変数から見た関数との関係性（右図）<br><br>\n",
    "\n",
    "続いて、変数の視点から関数はどう見えるでしょうか？ ここで注目したい点は、変数が関数によって「生み出される」ということです。言い換えると、変数にとって関数は「生みの親」です。つまりは、`creator`（生み出す者）となる存在です。もし生みの親である関数が存在しないのであれば、それは関数以外によって生み出された変数、たとえばユーザによって与えられた変数であると考えられます。\n",
    "\n",
    "それでは、**図7-2**で表される関数と変数の「つながり」を私たちのコードに取り入れましょう。ここでは、その「つながり」を、通常の計算（順伝播）が行われるまさにそのタイミングで作ることにします。そのために、まずは`Variable`クラスに対して次のようにコードを追加します。"
   ]
  },
  {
   "cell_type": "code",
   "execution_count": 2,
   "metadata": {
    "collapsed": true
   },
   "outputs": [],
   "source": [
    "class Variable:\n",
    "    def __init__(self, data):\n",
    "        self.data = data\n",
    "        self.grad = None\n",
    "        self.creator = None       # ★（追加したコード）\n",
    "\n",
    "    def set_creator(self, func):  # ★\n",
    "        self.creator = func       # ★"
   ]
  },
  {
   "cell_type": "markdown",
   "metadata": {},
   "source": [
    "ここでは、`creator`というインスタンス変数を追加します。そして、`creator`を設定するためのメソッドを`set_creator`メソッドとして追加します。続いて、`Function`クラスに対して次のようにコードを追加します。"
   ]
  },
  {
   "cell_type": "code",
   "execution_count": 3,
   "metadata": {
    "collapsed": true
   },
   "outputs": [],
   "source": [
    "class Function:\n",
    "    def __call__(self, input):\n",
    "        x = input.data\n",
    "        y = self.forward(x)\n",
    "        output = Variable(y)\n",
    "        output.set_creator(self)  # ★出力変数に生みの親を覚えさせる\n",
    "        self.input = input\n",
    "        self.output = output      # ★出力も覚える\n",
    "        return output\n",
    "\n",
    "    def forward(self, x):\n",
    "        raise NotImplementedError()\n",
    "\n",
    "    def backward(self, gy):\n",
    "        raise NotImplementedError()"
   ]
  },
  {
   "cell_type": "markdown",
   "metadata": {},
   "source": [
    "順伝播の計算により`output`という`Variable`インスタンスが生成されます。このとき、その生成された`output`に対して、「私（関数である自分自身）が生みの親であること」を覚えさせます。これこそが、動的に「つながり」を作る仕掛けの核心部です。なお、ここでは次のステップを見据えて、インスタンス変数の`output`に出力を設定しています。\n",
    "\n",
    "<br><div class=\"alert alert-info\">\n",
    "<b>【ノート】</b>DeZeroの動的計算グラフの仕組みは、実際の計算が行われるときに、変数という「箱」にその「つながり」を記録することによって行われます。同様のアプローチは、ChainerやPyTorchでも行われています。\n",
    "</div><br>\n",
    "\n",
    "このように、「つながり」を持った`Variable`と`Function`があれば、計算グラフを逆向きに辿ることができます。具体的なコードで示すと、次のようになります。"
   ]
  },
  {
   "cell_type": "code",
   "execution_count": 4,
   "metadata": {
    "collapsed": true
   },
   "outputs": [],
   "source": [
    "class Square(Function):\n",
    "    def forward(self, x):\n",
    "        y = x ** 2\n",
    "        return y\n",
    "\n",
    "    def backward(self, gy):\n",
    "        x = self.input.data\n",
    "        gx = 2 * x * gy\n",
    "        return gx\n",
    "\n",
    "\n",
    "class Exp(Function):\n",
    "    def forward(self, x):\n",
    "        y = np.exp(x)\n",
    "        return y\n",
    "\n",
    "    def backward(self, gy):\n",
    "        x = self.input.data\n",
    "        gx = np.exp(x) * gy\n",
    "        return gx\n",
    "\n",
    "\n",
    "A = Square()\n",
    "B = Exp()\n",
    "C = Square()\n",
    "\n",
    "x = Variable(np.array(0.5))\n",
    "a = A(x)\n",
    "b = B(a)\n",
    "y = C(b)\n",
    "\n",
    "# 逆向きに計算グラフのノードを辿る\n",
    "assert y.creator == C\n",
    "assert y.creator.input == b\n",
    "assert y.creator.input.creator == B\n",
    "assert y.creator.input.creator.input == a\n",
    "assert y.creator.input.creator.input.creator == A\n",
    "assert y.creator.input.creator.input.creator.input == x"
   ]
  },
  {
   "cell_type": "markdown",
   "metadata": {},
   "source": [
    "まずはassert文について説明します。assert文は`assert ...`のように使います。ここで、`...`が`True`でない場合は例外が発生します。そのため、assert文は、条件を満たしているかどうかの確認に利用できます。ちなみに、上のコードを実行すると、問題なく（例外が発生することなく）実行できるので、assert文の条件をすべて満たしていることが分かります。\n",
    "\n",
    "上のコードが示すように、`Variable`のインスタンス変数`creator`で1つ前の`Function`へ辿ります。そして、`Function`のインスタンス変数`input`で1つ前の`Variable`へ辿ります。このつながりを図示すれば、**図7-3**のようになります。\n",
    "\n",
    "<br>![img](images/1-16.png)\n",
    "<br>**図7-3** `y`を起点とした計算グラフを逆向きに辿る<br><br>\n",
    "\n",
    "**図7-3**のとおり、私たちの計算グラフは、関数と変数の間の「つながり」によって構築されます。そして重要なことに、その「つながり」は、実際に計算が行われるときに（順伝播でデータを流すときに）作られます。この特徴こそがDefine-by-Runです。つまりは、データを流すことによって「つながり」が作られるのです。\n",
    "\n",
    "なお、**図7-3**のような「つながり」によるデータ構造は「リンク付きノード」と呼ばれます。ノードはグラフを構成する要素であり、リンクは別のノードへの参照を表します。つまり私たちは、「リンク付きノード」というデータ構造で計算グラフを表現しているのです。"
   ]
  },
  {
   "cell_type": "markdown",
   "metadata": {},
   "source": [
    "## 7.3 逆伝播を試す\n",
    "\n",
    "それでは、変数と関数のつながりを利用して、逆伝播を行ってみましょう。まずは`y`から`b`までの逆伝播を行います。これは次のように実装できます（参考のために図も合わせて示します）。\n",
    "\n",
    "<br>![img](images/1-161.png)"
   ]
  },
  {
   "cell_type": "code",
   "execution_count": 5,
   "metadata": {
    "collapsed": true
   },
   "outputs": [],
   "source": [
    "y.grad = np.array(1.0)\n",
    "\n",
    "C = y.creator  # 1. 関数を取得\n",
    "b = C.input  # 2. 関数の入力を取得\n",
    "b.grad = C.backward(y.grad)  # 3. 関数のbackwardメソッドを呼ぶ"
   ]
  },
  {
   "cell_type": "markdown",
   "metadata": {},
   "source": [
    "ここでは、`y`のインスタンス変数`creator`から関数を取得し、その関数の`input`によって入力変数を取得します。そして、関数の`backward`メソッドを呼び出します。これに続いて、次は変数`b`から`a`への逆伝播の図とコードを示します。\n",
    "\n",
    "<br>![img](images/1-162.png)"
   ]
  },
  {
   "cell_type": "code",
   "execution_count": 6,
   "metadata": {
    "collapsed": true
   },
   "outputs": [],
   "source": [
    "B = b.creator  # 1. 関数を取得\n",
    "a = B.input  # 2. 関数の入力を取得\n",
    "a.grad = B.backward(b.grad)  # 3. 関数のbackwardメソッドを呼ぶ"
   ]
  },
  {
   "cell_type": "markdown",
   "metadata": {},
   "source": [
    "ここでも前と同じロジックで逆伝播を行います。具体的には、\n",
    "\n",
    " 1. 関数を取得\n",
    " 2. 関数の入力を取得\n",
    " 3. 関数の`backward`メソッドを呼ぶ\n",
    "\n",
    "\n",
    "という流れです。それでは最後に、変数`a`から`x`への逆伝播です。\n",
    "\n",
    "<br>![img](images/1-163.png)"
   ]
  },
  {
   "cell_type": "code",
   "execution_count": 7,
   "metadata": {},
   "outputs": [
    {
     "name": "stdout",
     "output_type": "stream",
     "text": [
      "3.297442541400256\n"
     ]
    }
   ],
   "source": [
    "A = a.creator  # 1. 関数を取得\n",
    "x = A.input  # 2. 関数の入力を取得\n",
    "x.grad = A.backward(a.grad)  # 3. 関数のbackwardメソッドを呼ぶ\n",
    "print(x.grad)"
   ]
  },
  {
   "cell_type": "markdown",
   "metadata": {
    "collapsed": true
   },
   "source": [
    "以上で、すべての逆伝播が終わりました。"
   ]
  },
  {
   "cell_type": "markdown",
   "metadata": {},
   "source": [
    "## 7.4 backwardメソッドの追加\n",
    "\n",
    "すでにお察しのとおり、先ほど示した逆伝播のコードは、同じ処理フローが繰り返し現れます。より正確に言えば、変数から1つ前の変数へと遡る逆伝播のロジックが、すべて同じです。そこで、その繰り返しの処理を自動化できるように、`Variable`クラスに`backward`という新しいメソッドを追加します。"
   ]
  },
  {
   "cell_type": "code",
   "execution_count": 8,
   "metadata": {
    "collapsed": true
   },
   "outputs": [],
   "source": [
    "class Variable:\n",
    "    def __init__(self, data):\n",
    "        self.data = data\n",
    "        self.grad = None\n",
    "        self.creator = None\n",
    "\n",
    "    def set_creator(self, func):\n",
    "        self.creator = func\n",
    "\n",
    "    def backward(self):\n",
    "        f = self.creator  # 1. 関数を取得\n",
    "        if f is not None:\n",
    "            x = f.input  # 2. 関数の入力を取得\n",
    "            x.grad = f.backward(self.grad)  # 3. 関数のbackwardメソッドを呼ぶ\n",
    "            x.backward()  # 自分より1つ前の変数のbackwardメソッドを呼ぶ（再帰）"
   ]
  },
  {
   "cell_type": "markdown",
   "metadata": {},
   "source": [
    "`backward`メソッドは、これまで繰り返し現れた処理フローとほとんど同じです。具体的には、`Variable`の`creator`から関数を取得し、その関数の入力変数を取り出します。そして、関数の`backward`メソッドを呼び出します。最後に、自分よりも1つ前の変数に対して、その変数の`backward`メソッドを呼び出します。これによって、各変数の`backward`メソッドが再帰的に呼ばれるようになります。\n",
    "\n",
    "<br><div class=\"alert alert-info\">\n",
    "<b>【ノート】</b><code>Variable</code>インスタンスの<code>creator</code>が<code>None</code>の場合、逆伝播はそこでストップします。その場合、<code>Variable</code>インスタンスは関数以外の方法で生成されたこと――主にユーザによって与えられた変数であること――を意味します。\n",
    "</div><br>\n",
    "\n",
    "それでは、この新しい`Variable`を使って、自動化されたバックプロパゲーションを行ってみましょう。"
   ]
  },
  {
   "cell_type": "code",
   "execution_count": 9,
   "metadata": {},
   "outputs": [
    {
     "name": "stdout",
     "output_type": "stream",
     "text": [
      "3.297442541400256\n"
     ]
    }
   ],
   "source": [
    "A = Square()\n",
    "B = Exp()\n",
    "C = Square()\n",
    "\n",
    "x = Variable(np.array(0.5))\n",
    "a = A(x)\n",
    "b = B(a)\n",
    "y = C(b)\n",
    "\n",
    "# 逆伝播\n",
    "y.grad = np.array(1.0)\n",
    "y.backward()\n",
    "print(x.grad)"
   ]
  },
  {
   "cell_type": "markdown",
   "metadata": {},
   "source": [
    "上記のように、変数`y`の`backward`メソッドを呼べば、自動で逆伝播が行われます。実行して得られる結果も、これまでと同じです。おめでとうございます！ これでDeZeroで最も重要な自動微分のベースは完成しました。"
   ]
  }
 ],
 "metadata": {
  "colab": {
   "collapsed_sections": [],
   "name": "step07.ipynb",
   "provenance": []
  },
  "kernelspec": {
   "display_name": "Python 3",
   "language": "python",
   "name": "python3"
  },
  "language_info": {
   "codemirror_mode": {
    "name": "ipython",
    "version": 3
   },
   "file_extension": ".py",
   "mimetype": "text/x-python",
   "name": "python",
   "nbconvert_exporter": "python",
   "pygments_lexer": "ipython3",
   "version": "3.6.9"
  }
 },
 "nbformat": 4,
 "nbformat_minor": 1
}
