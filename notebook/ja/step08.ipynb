{
 "cells": [
  {
   "cell_type": "markdown",
   "metadata": {
    "colab_type": "text",
    "id": "view-in-github"
   },
   "source": [
    "<a href=\"https://colab.research.google.com/github/koki0702/zerobook3/blob/master/notebook/ja/step08.ipynb\" target=\"_parent\"><img src=\"https://colab.research.google.com/assets/colab-badge.svg\" alt=\"Open In Colab\"/></a>"
   ]
  },
  {
   "cell_type": "markdown",
   "metadata": {
    "colab_type": "text",
    "id": "qD_v5BgmSNeK"
   },
   "source": [
    "## 前ステップまでに実装したコード"
   ]
  },
  {
   "cell_type": "code",
   "execution_count": 1,
   "metadata": {
    "colab": {},
    "colab_type": "code",
    "collapsed": true,
    "id": "1ItduEGlSNeK"
   },
   "outputs": [],
   "source": [
    "import numpy as np\n",
    "\n",
    "\n",
    "class Variable:\n",
    "    def __init__(self, data):\n",
    "        self.data = data\n",
    "        self.grad = None\n",
    "        self.creator = None\n",
    "\n",
    "    def set_creator(self, func):\n",
    "        self.creator = func\n",
    "\n",
    "    def backward(self):\n",
    "        f = self.creator\n",
    "        if f is not None:\n",
    "            x = f.input\n",
    "            x.grad = f.backward(self.grad)\n",
    "            x.backward()\n",
    "\n",
    "\n",
    "class Function:\n",
    "    def __call__(self, input):\n",
    "        x = input.data\n",
    "        y = self.forward(x)\n",
    "        output = Variable(y)\n",
    "        output.set_creator(self)\n",
    "        self.input = input\n",
    "        self.output = output\n",
    "        return output\n",
    "\n",
    "    def forward(self, x):\n",
    "        raise NotImplementedError()\n",
    "\n",
    "    def backward(self, gy):\n",
    "        raise NotImplementedError()\n",
    "\n",
    "\n",
    "class Square(Function):\n",
    "    def forward(self, x):\n",
    "        y = x ** 2\n",
    "        return y\n",
    "\n",
    "    def backward(self, gy):\n",
    "        x = self.input.data\n",
    "        gx = 2 * x * gy\n",
    "        return gx\n",
    "\n",
    "\n",
    "class Exp(Function):\n",
    "    def forward(self, x):\n",
    "        y = np.exp(x)\n",
    "        return y\n",
    "\n",
    "    def backward(self, gy):\n",
    "        x = self.input.data\n",
    "        gx = np.exp(x) * gy\n",
    "        return gx"
   ]
  },
  {
   "cell_type": "markdown",
   "metadata": {
    "colab_type": "text",
    "id": "b64KOJJASNeO"
   },
   "source": [
    "***"
   ]
  },
  {
   "cell_type": "markdown",
   "metadata": {
    "colab_type": "text",
    "id": "xP5kwa-3-9Ff"
   },
   "source": [
    "# ステップ8 再帰からループへ\n",
    "\n",
    "前ステップで私たちは、`Variable`クラスに`backward`メソッドを追加しました。ここでは処理効率の改善と今後の拡張を見据えて、`backward`メソッドを別の実装方式へと変更します。"
   ]
  },
  {
   "cell_type": "markdown",
   "metadata": {},
   "source": [
    "## 8.1 現時点のVariableクラス\n",
    "\n",
    "再掲になりますが、私たちは`Variable`クラスの`backward`メソッドを次のように実装しました。"
   ]
  },
  {
   "cell_type": "code",
   "execution_count": 2,
   "metadata": {
    "collapsed": true
   },
   "outputs": [],
   "source": [
    "class Variable:\n",
    "    def __init__(self, data):\n",
    "        self.data = data\n",
    "        self.grad = None\n",
    "        self.creator = None\n",
    "\n",
    "    def set_creator(self, func):\n",
    "        self.creator = func\n",
    "\n",
    "    def backward(self):\n",
    "        f = self.creator\n",
    "        if f is not None:\n",
    "            x = f.input\n",
    "            x.grad = f.backward(self.grad)\n",
    "            x.backward()"
   ]
  },
  {
   "cell_type": "markdown",
   "metadata": {},
   "source": [
    "ここで注目したいのは、`backward`メソッドの中で、（入力側へ）1つ前の変数の`backward`メソッドが呼ばれている点です。これによって、「`backward`メソッドの中で`backward`メソッドが呼ばれ、その呼ばれた先の`backward`メソッドでまた`backward`メソッドが呼ばれ、...」という処理が続きます（関数`self.creator`が`None`になる変数が見つかるまで続きます）。これは再帰的な構造です。\n"
   ]
  },
  {
   "cell_type": "markdown",
   "metadata": {},
   "source": [
    "## 8.2 ループを使った実装\n",
    "\n",
    "ここでは、上の「再帰を使った実装」を「ループを使った実装」に書き換えます。そのコードを示すと、次のようになります。"
   ]
  },
  {
   "cell_type": "code",
   "execution_count": 3,
   "metadata": {
    "collapsed": true
   },
   "outputs": [],
   "source": [
    "class Variable:\n",
    "    def __init__(self, data):\n",
    "        self.data = data\n",
    "        self.grad = None\n",
    "        self.creator = None\n",
    "\n",
    "    def set_creator(self, func):\n",
    "        self.creator = func\n",
    "\n",
    "    def backward(self):\n",
    "        funcs = [self.creator]\n",
    "        while funcs:\n",
    "            f = funcs.pop()  # 関数を取得\n",
    "            x, y = f.input, f.output  # 関数の入出力を取得\n",
    "            x.grad = f.backward(y.grad)  # backwardメソッドを呼ぶ\n",
    "\n",
    "            if x.creator is not None:\n",
    "                funcs.append(x.creator)  # 1つ前の関数をリストに追加"
   ]
  },
  {
   "cell_type": "markdown",
   "metadata": {},
   "source": [
    "これがループを使った実装です。重要な点は、`funcs`というリストに処理すべき関数を順に追加していくことです。`while`ループの中では、`funcs.pop()`によって処理すべき関数が`f`として取り出され、その関数`f`の`backward`メソッドが呼ばれます。このとき、`f.input`と`f.output`によって、関数`f`の入出力の変数を取得することで、`f.backward()`の引数と戻り値が正しく設定されます。\n",
    "\n",
    "<br><div class=\"alert alert-info\">\n",
    "<b>【ノート】</b>リストの<code>pop</code>メソッドは、リストの末尾が削除され、その要素が取得されます。たとえば、<code>funcs = [1, 2, 3]</code>のとき<code>x = funcs.pop()</code>とすれば、<code>3</code>が取り出され、<code>funcs</code>は<code>[1, 2]</code>となります。\n",
    "</div><br>\n",
    "\n"
   ]
  },
  {
   "cell_type": "code",
   "execution_count": null,
   "metadata": {
    "collapsed": true
   },
   "outputs": [],
   "source": []
  },
  {
   "cell_type": "code",
   "execution_count": 3,
   "metadata": {
    "collapsed": true
   },
   "outputs": [],
   "source": [
    "class Function:\n",
    "    def __call__(self, input):\n",
    "        x = input.data\n",
    "        y = self.forward(x)\n",
    "        output = Variable(y)\n",
    "        output.set_creator(self)  # ★出力変数に生みの親を覚えさせる\n",
    "        self.input = input\n",
    "        self.output = output      # ★出力も覚える\n",
    "        return output\n",
    "\n",
    "    def forward(self, x):\n",
    "        raise NotImplementedError()\n",
    "\n",
    "    def backward(self, gy):\n",
    "        raise NotImplementedError()"
   ]
  },
  {
   "cell_type": "markdown",
   "metadata": {},
   "source": [
    "順伝播の計算により`output`という`Variable`インスタンスが生成されます。このとき、その生成された`output`に対して、「私（関数である自分自身）が生みの親であること」を覚えさせます。これこそが、動的に「つながり」を作る仕掛けの核心部です。なお、ここでは次のステップを見据えて、インスタンス変数の`output`に出力を設定しています。\n",
    "\n",
    "<br><div class=\"alert alert-info\">\n",
    "<b>【ノート】</b>DeZeroの動的計算グラフの仕組みは、実際の計算が行われるときに、変数という「箱」にその「つながり」を記録することによって行われます。同様のアプローチは、ChainerやPyTorchでも行われています。\n",
    "</div><br>\n",
    "\n",
    "このように、「つながり」を持った`Variable`と`Function`があれば、計算グラフを逆向きに辿ることができます。具体的なコードで示すと、次のようになります。"
   ]
  },
  {
   "cell_type": "code",
   "execution_count": 4,
   "metadata": {
    "collapsed": true
   },
   "outputs": [],
   "source": [
    "class Square(Function):\n",
    "    def forward(self, x):\n",
    "        y = x ** 2\n",
    "        return y\n",
    "\n",
    "    def backward(self, gy):\n",
    "        x = self.input.data\n",
    "        gx = 2 * x * gy\n",
    "        return gx\n",
    "\n",
    "\n",
    "class Exp(Function):\n",
    "    def forward(self, x):\n",
    "        y = np.exp(x)\n",
    "        return y\n",
    "\n",
    "    def backward(self, gy):\n",
    "        x = self.input.data\n",
    "        gx = np.exp(x) * gy\n",
    "        return gx\n",
    "\n",
    "\n",
    "A = Square()\n",
    "B = Exp()\n",
    "C = Square()\n",
    "\n",
    "x = Variable(np.array(0.5))\n",
    "a = A(x)\n",
    "b = B(a)\n",
    "y = C(b)\n",
    "\n",
    "# 逆向きに計算グラフのノードを辿る\n",
    "assert y.creator == C\n",
    "assert y.creator.input == b\n",
    "assert y.creator.input.creator == B\n",
    "assert y.creator.input.creator.input == a\n",
    "assert y.creator.input.creator.input.creator == A\n",
    "assert y.creator.input.creator.input.creator.input == x"
   ]
  },
  {
   "cell_type": "markdown",
   "metadata": {},
   "source": [
    "まずはassert文について説明します。assert文は`assert ...`のように使います。ここで、`...`が`True`でない場合は例外が発生します。そのため、assert文は、条件を満たしているかどうかの確認に利用できます。ちなみに、上のコードを実行すると、問題なく（例外が発生することなく）実行できるので、assert文の条件をすべて満たしていることが分かります。\n",
    "\n",
    "上のコードが示すように、`Variable`のインスタンス変数`creator`で1つ前の`Function`へ辿ります。そして、`Function`のインスタンス変数`input`で1つ前の`Variable`へ辿ります。このつながりを図示すれば、@<img>{ch1/1-16}のようになります。\n",
    "\n",
    "<br>![img](images/1-16.png)\n",
    "<br>**図7-3** `y`を起点とした計算グラフを逆向きに辿る<br><br>\n",
    "\n",
    "**図7-3**のとおり、私たちの計算グラフは、関数と変数の間の「つながり」によって構築されます。そして重要なことに、その「つながり」は、実際に計算が行われるときに（順伝播でデータを流すときに）作られます。この特徴こそがDefine-by-Runです。つまりは、データを流すことによって「つながり」が作られるのです。\n",
    "\n",
    "なお、**図7-3**のような「つながり」によるデータ構造は「リンク付きノード」と呼ばれます。ノードはグラフを構成する要素であり、リンクは別のノードへの参照を表します。つまり私たちは、「リンク付きノード」というデータ構造で計算グラフを表現しているのです。"
   ]
  },
  {
   "cell_type": "markdown",
   "metadata": {},
   "source": [
    "## 7.3 逆伝播を試す\n",
    "\n",
    "それでは、変数と関数のつながりを利用して、逆伝播を行ってみましょう。まずは`y`から`b`までの逆伝播を行います。これは次のように実装できます（参考のために図も合わせて示します）。\n",
    "\n",
    "<br>![img](images/1-161.png)"
   ]
  },
  {
   "cell_type": "code",
   "execution_count": 5,
   "metadata": {
    "collapsed": true
   },
   "outputs": [],
   "source": [
    "y.grad = np.array(1.0)\n",
    "\n",
    "C = y.creator  # 1. 関数を取得\n",
    "b = C.input  # 2. 関数の入力を取得\n",
    "b.grad = C.backward(y.grad)  # 3. 関数のbackwardメソッドを呼ぶ"
   ]
  },
  {
   "cell_type": "markdown",
   "metadata": {},
   "source": [
    "ここでは、`y`のインスタンス変数`creator`から関数を取得し、その関数の`input`によって入力変数を取得します。そして、関数の`backward`メソッドを呼び出します。これに続いて、次は変数`b`から`a`への逆伝播の図とコードを示します。\n",
    "\n",
    "<br>![img](images/1-162.png)"
   ]
  },
  {
   "cell_type": "code",
   "execution_count": 6,
   "metadata": {
    "collapsed": true
   },
   "outputs": [],
   "source": [
    "B = b.creator  # 1. 関数を取得\n",
    "a = B.input  # 2. 関数の入力を取得\n",
    "a.grad = B.backward(b.grad)  # 3. 関数のbackwardメソッドを呼ぶ"
   ]
  },
  {
   "cell_type": "markdown",
   "metadata": {},
   "source": [
    "ここでも前と同じロジックで逆伝播を行います。具体的には、\n",
    "\n",
    " 1. 関数を取得\n",
    " 2. 関数の入力を取得\n",
    " 3. 関数の`backward`メソッドを呼ぶ\n",
    "\n",
    "\n",
    "という流れです。それでは最後に、変数`a`から`x`への逆伝播です。\n",
    "\n",
    "<br>![img](images/1-163.png)"
   ]
  },
  {
   "cell_type": "code",
   "execution_count": 7,
   "metadata": {},
   "outputs": [
    {
     "name": "stdout",
     "output_type": "stream",
     "text": [
      "3.297442541400256\n"
     ]
    }
   ],
   "source": [
    "A = a.creator  # 1. 関数を取得\n",
    "x = A.input  # 2. 関数の入力を取得\n",
    "x.grad = A.backward(a.grad)  # 3. 関数のbackwardメソッドを呼ぶ\n",
    "print(x.grad)"
   ]
  },
  {
   "cell_type": "markdown",
   "metadata": {
    "collapsed": true
   },
   "source": [
    "以上で、すべての逆伝播が終わりました。"
   ]
  },
  {
   "cell_type": "markdown",
   "metadata": {},
   "source": [
    "## 7.4 backwardメソッドの追加\n",
    "\n",
    "すでにお察しのとおり、先ほど示した逆伝播のコードは、同じ処理フローが繰り返し現れます。より正確に言えば、変数から1つ前の変数へと遡る逆伝播のロジックが、すべて同じです。そこで、その繰り返しの処理を自動化できるように、`Variable`クラスに`backward`という新しいメソッドを追加します。"
   ]
  },
  {
   "cell_type": "code",
   "execution_count": 8,
   "metadata": {
    "collapsed": true
   },
   "outputs": [],
   "source": [
    "class Variable:\n",
    "    def __init__(self, data):\n",
    "        self.data = data\n",
    "        self.grad = None\n",
    "        self.creator = None\n",
    "\n",
    "    def set_creator(self, func):\n",
    "        self.creator = func\n",
    "\n",
    "    def backward(self):\n",
    "        f = self.creator  # 1. 関数を取得\n",
    "        if f is not None:\n",
    "            x = f.input  # 2. 関数の入力を取得\n",
    "            x.grad = f.backward(self.grad)  # 3. 関数のbackwardメソッドを呼ぶ\n",
    "            x.backward()  # 自分より1つ前の変数のbackwardメソッドを呼ぶ（再帰）"
   ]
  },
  {
   "cell_type": "markdown",
   "metadata": {},
   "source": [
    "`backward`メソッドは、これまで繰り返し現れた処理フローとほとんど同じです。具体的には、`Variable`の`creator`から関数を取得し、その関数の入力変数を取り出します。そして、関数の`backward`メソッドを呼び出します。最後に、自分よりも1つ前の変数に対して、その変数の`backward`メソッドを呼び出します。これによって、各変数の`backward`メソッドが再帰的に呼ばれるようになります。\n",
    "\n",
    "<br><div class=\"alert alert-info\">\n",
    "<b>【ノート】</b>`Variable`インスタンスの`creator`が`None`の場合、逆伝播はそこでストップします。その場合、`Variable`インスタンスは関数以外の方法で生成されたこと――主にユーザによって与えられた変数であること――を意味します。\n",
    "</div><br>\n",
    "\n",
    "それでは、この新しい`Variable`を使って、自動化されたバックプロパゲーションを行ってみましょう。"
   ]
  },
  {
   "cell_type": "code",
   "execution_count": 9,
   "metadata": {},
   "outputs": [
    {
     "name": "stdout",
     "output_type": "stream",
     "text": [
      "3.297442541400256\n"
     ]
    }
   ],
   "source": [
    "A = Square()\n",
    "B = Exp()\n",
    "C = Square()\n",
    "\n",
    "x = Variable(np.array(0.5))\n",
    "a = A(x)\n",
    "b = B(a)\n",
    "y = C(b)\n",
    "\n",
    "# 逆伝播\n",
    "y.grad = np.array(1.0)\n",
    "y.backward()\n",
    "print(x.grad)"
   ]
  },
  {
   "cell_type": "markdown",
   "metadata": {},
   "source": [
    "上記のように、変数`y`の`backward`メソッドを呼べば、自動で逆伝播が行われます。実行して得られる結果も、これまでと同じです。おめでとうございます！ これでDeZeroで最も重要な自動微分のベースは完成しました。"
   ]
  }
 ],
 "metadata": {
  "colab": {
   "collapsed_sections": [],
   "name": "step08.ipynb",
   "provenance": []
  },
  "kernelspec": {
   "display_name": "Python 3",
   "language": "python",
   "name": "python3"
  },
  "language_info": {
   "codemirror_mode": {
    "name": "ipython",
    "version": 3
   },
   "file_extension": ".py",
   "mimetype": "text/x-python",
   "name": "python",
   "nbconvert_exporter": "python",
   "pygments_lexer": "ipython3",
   "version": "3.6.9"
  }
 },
 "nbformat": 4,
 "nbformat_minor": 1
}
