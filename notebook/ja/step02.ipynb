{
 "cells": [
  {
   "cell_type": "markdown",
   "metadata": {
    "colab_type": "text",
    "id": "view-in-github"
   },
   "source": [
    "<a href=\"https://colab.research.google.com/github/koki0702/zerobook3/blob/master/notebook/ja/step02.ipynb\" target=\"_parent\"><img src=\"https://colab.research.google.com/assets/colab-badge.svg\" alt=\"Open In Colab\"/></a>"
   ]
  },
  {
   "cell_type": "markdown",
   "metadata": {
    "colab_type": "text",
    "id": "qD_v5BgmSNeK"
   },
   "source": [
    "**前ステップまでに実装したコード**"
   ]
  },
  {
   "cell_type": "code",
   "execution_count": 0,
   "metadata": {
    "colab": {},
    "colab_type": "code",
    "collapsed": true,
    "id": "1ItduEGlSNeK"
   },
   "outputs": [],
   "source": [
    "import numpy as np\n",
    "\n",
    "class Variable:\n",
    "    def __init__(self, data):\n",
    "        self.data = data"
   ]
  },
  {
   "cell_type": "markdown",
   "metadata": {
    "colab_type": "text",
    "id": "b64KOJJASNeO"
   },
   "source": [
    "***"
   ]
  },
  {
   "cell_type": "markdown",
   "metadata": {
    "colab_type": "text",
    "id": "xP5kwa-3-9Ff"
   },
   "source": [
    "# ステップ2 変数を生み出す関数\n",
    "\n",
    "前ステップで、`Variable`クラスは「箱」として使えるようになりました。しかし、今のままでは「ただの箱」です。その「ただの箱」を「魔法の箱」に変える仕掛けが必要になります。そのためのキーとなる存在が「関数」です。本ステップでは関数について考えます。"
   ]
  },
  {
   "cell_type": "markdown",
   "metadata": {
    "colab_type": "text",
    "id": "dWwevlLn-9Fh"
   },
   "source": [
    "## 2.1 関数とは\n",
    "\n",
    "関数とは何でしょうか。関数とは、少し硬い言い回しをすれば、「ある変数から別の変数への対応関係を定めたもの」と言えます。具体例として、2乗の計算を行う$f(x) = x^2$という関数を考えます。その場合、$y = f(x)$とすれば、変数$y$と$x$の関係が関数$f$によって決まります。つまり、「$y$は$x$の2乗である」という関係が、関数$f$によって決定します。\n",
    "\n",
    "このように、変数間の対応関係を定める役割が関数にはあります。このとき、変数と関数の関係を視覚的に表すと**図2-1**のようになります。\n",
    "\n",
    "<br>![img2-1](images/1-3.png)\n",
    "\n",
    "**図2-1** 変数と関数の関係を表したグラフ\n",
    "<br><br>\n",
    "\n",
    "**図2-1**によって、変数$x$と$y$、そして関数$f$の関係性が可視化されました。このように、○と□で表したノードと矢印によって計算を表した図を「計算グラフ」と言います。なお本書では、変数をオレンジの○で、関数を水色の□で図示することにします。\n",
    "\n",
    "<br><div class=\"alert alert-warning\">\n",
    "<b>【注意】</b>「グラフ」と言うと棒グラフや円グラフなどの図を思い浮かべるかもしれません。しかし、コンピュータサイエンスの分野では、「グラフ」とはノードとエッジで構成されるデータ構造（および、その構造を表した図）を指します。\n",
    "</div><br>"
   ]
  },
  {
   "cell_type": "markdown",
   "metadata": {
    "colab_type": "text",
    "id": "VDEdYCQZ-9Fh"
   },
   "source": [
    "## 2.2  Functionクラスの実装\n",
    "\n",
    "それでは、**図1-3**で表される関数をプログラミングの視点で考えてみましょう。具体的に言うと、変数$x$と$y$を先ほど実装した`Variable`インスタンスだと仮定し、それらを処理できる関数$f$を`Function`クラスとして実装します。ここでの注意点は、次の2つです。\n",
    "\n",
    " * `Function`クラスで実装するメソッドは、`Variable`インスタンスを入力とし、`Variable`インスタンスを出力とすること\n",
    " * `Variable`インスタンスの実際のデータは、インスタンス変数の`data`に存在すること\n",
    "\n",
    "この2点に注意すると、`Function`クラスは次のように実装できます。"
   ]
  },
  {
   "cell_type": "code",
   "execution_count": 1,
   "metadata": {
    "colab": {},
    "colab_type": "code",
    "collapsed": true,
    "id": "xKSSjVVx-9Fi"
   },
   "outputs": [],
   "source": [
    "class Function:\n",
    "    def __call__(self, input):\n",
    "        x = input.data  # データを取り出す\n",
    "        y = x ** 2  # 実際の計算\n",
    "        output = Variable(y)  # Variableとして返す\n",
    "        return output"
   ]
  },
  {
   "cell_type": "markdown",
   "metadata": {
    "colab_type": "text",
    "id": "2CAW4DM6_LPh"
   },
   "source": [
    "上のように、ここでは`__call__`メソッドを実装します。`__call__`メソッドは、引数として`input`を取りますが、これは`Variable`インスタンスが与えられることを想定します。そのため実際のデータは、`input.data`に存在します。データを取り出した後は、目的とする計算――ここでは、2乗の計算――を行い、その結果を`Variable`の「箱」に入れて返します。"
   ]
  },
  {
   "cell_type": "markdown",
   "metadata": {
    "colab_type": "text",
    "id": "eUdpGqxMSNeU"
   },
   "source": [
    "<div class=\"alert alert-info\">\n",
    "<b>【ノート】</b><code>__call__</code>メソッドは、Pythonの特殊なメソッドです。このメソッドを定義すれば、<code>f = Function()</code>としたとき、<code>f(...)</code>と書くことで<code>__call__</code>メソッドを呼び出せます。\n",
    "</div>"
   ]
  },
  {
   "cell_type": "markdown",
   "metadata": {
    "colab_type": "text",
    "id": "G3IynNDf-9Fl"
   },
   "source": [
    "## Functionクラスを使う\n",
    "\n",
    "それでは、`Function`クラスを実際に使ってみましょう。ここでは、`Variable`インスタンスの`x`を`Function`インスタンスの`f`に入力してみます。"
   ]
  },
  {
   "cell_type": "code",
   "execution_count": 2,
   "metadata": {
    "colab": {
     "base_uri": "https://localhost:8080/",
     "height": 52
    },
    "colab_type": "code",
    "id": "z3Tvk94E-9Fm",
    "outputId": "15c4cbc2-9b8c-4781-8301-0510cd5f211b"
   },
   "outputs": [
    {
     "name": "stdout",
     "output_type": "stream",
     "text": [
      "<class '__main__.Variable'>\n",
      "100\n"
     ]
    }
   ],
   "source": [
    "x = Variable(np.array(10))\n",
    "f = Function()\n",
    "y = f(x)\n",
    "\n",
    "print(type(y))  # type()を使って、オブジェクトの型を取得\n",
    "print(y.data)"
   ]
  },
  {
   "cell_type": "markdown",
   "metadata": {
    "colab_type": "text",
    "id": "SF7fth8l-9Fo"
   },
   "source": [
    "上記のとおり、`Variable`と`Function`を連携して使うことができました。実行結果を見ると、`y`の型は`Variable`で、そのデータは`y.data`に格納されていることが分かります。\n",
    "\n",
    "さて、ここで実装した`Function`クラスですが、これは「入力された値を2乗する」という具体的な関数です。そのため、`Square`というような具体的な名前の方が適切です。また今後、様々な関数（`Sin`関数や`Exp`関数など）を追加することになります。その点を考慮すると、`Function`クラスは基底クラスとして実装し、DeZeroのすべての関数に共通する機能を持たせた方が良いでしょう。そこで、次の2点を満たすようにDeZeroの関数を作り変えます。\n",
    "\n",
    " * `Function`クラスは基底クラスとして、すべての関数に共通する機能を実装する\n",
    " * 具体的な関数は、`Function`クラスを継承したクラスで実装する\n",
    "\n",
    "以上の点を考慮すると、`Function`クラスは次のように実装できます。"
   ]
  },
  {
   "cell_type": "code",
   "execution_count": 3,
   "metadata": {
    "colab": {},
    "colab_type": "code",
    "collapsed": true,
    "id": "-iB8jSedSiQM"
   },
   "outputs": [],
   "source": [
    "class Function:\n",
    "    def __call__(self, input):\n",
    "        x = input.data\n",
    "        y = self.forward(x)  # 具体的な計算はforwardメソッドで行う\n",
    "        output = Variable(y)\n",
    "        return output\n",
    "\n",
    "    def forward(self, x):\n",
    "        raise NotImplementedError()"
   ]
  },
  {
   "cell_type": "markdown",
   "metadata": {
    "colab_type": "text",
    "id": "7-9siB31-9Fp"
   },
   "source": [
    "ここでは、`__call__`と`forward`という2つのメソッドを実装します。`__call__`メソッドでは、「`Variable`からデータを取り出す」ことと「計算結果を`Variable`に詰める」という2つの作業を行います。そして、その間の具体的な計算は、`forward`メソッドを呼ぶことで行います。その`forward`メソッドの実装は、継承先のクラスで行うことにします。"
   ]
  },
  {
   "cell_type": "markdown",
   "metadata": {
    "colab_type": "text",
    "id": "oiiMEJDkSNea"
   },
   "source": [
    "<div class=\"alert alert-info\">\n",
    "<b>【ノート】</b><code>Function</code>クラスの<code>forward</code>メソッドでは、例外を発生させます。そうすることで、<code>Function</code>クラスの<code>forward</code>メソッドを使った人（使ってしまった人）に対して、そのメソッドは継承して実装すべきであることをアピールします。\n",
    "</div>"
   ]
  },
  {
   "cell_type": "markdown",
   "metadata": {
    "colab_type": "text",
    "id": "EP8MSgGZSNea"
   },
   "source": [
    "それでは、この`Function`クラスを継承して、入力された値を2乗するクラスを実装してみます。ここでは、`Square`というクラス名で次のように実装します。続いて、上のコードの`x`に新しいデータを代入してみます。それには、次のように書くことができます。"
   ]
  },
  {
   "cell_type": "code",
   "execution_count": 4,
   "metadata": {
    "colab": {},
    "colab_type": "code",
    "collapsed": true,
    "id": "UsLmP3Jq-9Fp"
   },
   "outputs": [],
   "source": [
    "class Square(Function):\n",
    "    def forward(self, x):\n",
    "        return x ** 2"
   ]
  },
  {
   "cell_type": "markdown",
   "metadata": {
    "colab_type": "text",
    "id": "vzcHclgl-9Ft"
   },
   "source": [
    "`Square`クラスは`Function`クラスを継承しているので、`__call__`メソッドはそのまま受け継がれます。そのため、具体的な計算を`forward`メソッドに書くだけで、`Square`クラスの実装は完成です。この`Square`クラスを使えば、次のように`Variable`を処理できます。"
   ]
  },
  {
   "cell_type": "code",
   "execution_count": 5,
   "metadata": {
    "colab": {
     "base_uri": "https://localhost:8080/",
     "height": 52
    },
    "colab_type": "code",
    "id": "n0Zk2L4sSNee",
    "outputId": "f5106308-c351-4c2c-9140-c81a6f09e797"
   },
   "outputs": [
    {
     "name": "stdout",
     "output_type": "stream",
     "text": [
      "<class '__main__.Variable'>\n",
      "100\n"
     ]
    }
   ],
   "source": [
    "x = Variable(np.array(10))\n",
    "f = Square()\n",
    "y = f(x)\n",
    "print(type(y))\n",
    "print(y.data)"
   ]
  },
  {
   "cell_type": "markdown",
   "metadata": {
    "colab_type": "text",
    "id": "n6ZHqKKCSNeh"
   },
   "source": [
    "見てのとおり、前と同じ結果が得られました。以上で、ステップ2の作業は終了です。これで、`Variable`と`Function`クラスの基礎は完成です！"
   ]
  },
  {
   "cell_type": "markdown",
   "metadata": {
    "colab_type": "text",
    "id": "vo1LdXqsSNeh"
   },
   "source": [
    "<div class=\"alert alert-info\">\n",
    "<b>【ノート】</b>これからしばらくの間、<code>Function</code>の入力と出力は「1つの変数」に限定します。「ステップ11」から、複数の変数に対応できるようにDeZeroを拡張していきます。\n",
    "</div>"
   ]
  }
 ],
 "metadata": {
  "colab": {
   "collapsed_sections": [],
   "name": "step02.ipynb",
   "provenance": []
  },
  "kernelspec": {
   "display_name": "Python 3",
   "language": "python",
   "name": "python3"
  },
  "language_info": {
   "codemirror_mode": {
    "name": "ipython",
    "version": 3
   },
   "file_extension": ".py",
   "mimetype": "text/x-python",
   "name": "python",
   "nbconvert_exporter": "python",
   "pygments_lexer": "ipython3",
   "version": "3.6.9"
  }
 },
 "nbformat": 4,
 "nbformat_minor": 1
}
