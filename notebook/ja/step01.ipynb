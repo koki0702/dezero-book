{
 "cells": [
  {
   "cell_type": "markdown",
   "metadata": {
    "colab_type": "text",
    "id": "view-in-github"
   },
   "source": [
    "<a href=\"https://colab.research.google.com/github/koki0702/zerobook3/blob/master/notebook/ja/step01.ipynb\" target=\"_parent\"><img src=\"https://colab.research.google.com/assets/colab-badge.svg\" alt=\"Open In Colab\"/></a>"
   ]
  },
  {
   "cell_type": "markdown",
   "metadata": {
    "colab_type": "text",
    "id": "xP5kwa-3-9Ff"
   },
   "source": [
    "# ステップ1 箱としての変数\n",
    "\n",
    "本書の最初のステップでは、DeZeroの構成要素である「変数」を作ります。この変数は、DeZeroにおいて最も重要なパーツとなります。本ステップでは、変数の働きについて考え、その機能を満たすように実装します。"
   ]
  },
  {
   "cell_type": "markdown",
   "metadata": {
    "colab_type": "text",
    "id": "dWwevlLn-9Fh"
   },
   "source": [
    "## 1.1 変数とは\n",
    "\n",
    "早速ですが、変数とは何でしょうか？ プログラミングの入門書などを開くと、変数は、おおよそ**図1-1**のようなイメージで説明されます。\n",
    "\n",
    "<br>![img1-1](images/1-1.png)\n",
    "\n",
    "**図1-1** 変数の説明例<br><br>\n",
    "\n",
    "**図1-1**のように、箱にデータを入れる絵があり、その箱が変数であるという説明が続きます。この変数を「箱」にたとえた説明は、変数の性質を（ある程度は）上手く表しています。要点をまとめると、\n",
    "\n",
    " - 箱とデータは別物である\n",
    " - 箱にはデータが入る（= 代入）\n",
    " - 箱の中を覗けばデータが分かる（= 参照）\n",
    "\n",
    "といったことが言えるでしょう。それでは、この「箱」のイメージに合うように、DeZeroの変数を実装してみましょう。"
   ]
  },
  {
   "cell_type": "markdown",
   "metadata": {
    "colab_type": "text",
    "id": "VDEdYCQZ-9Fh"
   },
   "source": [
    "## 1.2  Variableクラスの実装\n",
    "\n",
    "変数は英語でvariableです。そこで、DeZeroの変数を`Variable`クラスとして実装することにします。ちなみにPythonでは、クラス名の頭文字を大文字にするのが一般的なコーディング規則です。このことは、PEP8というPythonのコーディング規約で述べられています。\n",
    "\n",
    "それでは、`Variable`クラスが「箱」となるように実装してみましょう。その機能を最小限のコードで書くとすれば、次のようになります。"
   ]
  },
  {
   "cell_type": "code",
   "execution_count": 0,
   "metadata": {
    "colab": {},
    "colab_type": "code",
    "collapsed": true,
    "id": "xKSSjVVx-9Fi"
   },
   "outputs": [],
   "source": [
    "class Variable:\n",
    "    def __init__(self, data):\n",
    "        self.data = data"
   ]
  },
  {
   "cell_type": "markdown",
   "metadata": {
    "colab_type": "text",
    "id": "G3IynNDf-9Fl"
   },
   "source": [
    "見てのとおり、初期化で与えられた引数をインスタンス変数の`data`に設定するだけです。とても単純なコードですが、これで`Variable`クラスは「箱」として使うことができます。なぜなら、実際のデータは`Variable`の`data`に保持されるからです。これは次の使用例を見ると、より明確になるでしょう。"
   ]
  },
  {
   "cell_type": "code",
   "execution_count": 1,
   "metadata": {
    "colab": {
     "base_uri": "https://localhost:8080/",
     "height": 35
    },
    "colab_type": "code",
    "id": "z3Tvk94E-9Fm",
    "outputId": "bf9bd09e-a228-42ee-90a3-4938380ce800"
   },
   "outputs": [
    {
     "name": "stdout",
     "output_type": "stream",
     "text": [
      "1.0\n"
     ]
    }
   ],
   "source": [
    "import numpy as np\n",
    "\n",
    "data = np.array(1.0)\n",
    "x = Variable(data)\n",
    "print(x.data)"
   ]
  },
  {
   "cell_type": "markdown",
   "metadata": {
    "colab_type": "text",
    "id": "SF7fth8l-9Fo"
   },
   "source": [
    "この例では、箱に入れるデータとして「NumPyの多次元配列」を用いています。このとき、`x`は`Variable`インスタンスであり、実際のデータは`x`の中にあります。つまり、`x`はデータではなく、データを持つ存在――データを詰める箱――というわけです。"
   ]
  },
  {
   "cell_type": "markdown",
   "metadata": {
    "colab_type": "text",
    "id": "mFXbVZXs-9Fo"
   },
   "source": [
    "<div class=\"alert alert-info\">\n",
    "\n",
    "<b>NOTE</b>\n",
    "\n",
    "機械学習のシステムは、基礎とするデータ構造に「多次元配列」を使います。そのため、DeZeroの<code>Variable</code>クラスはNumPyの多次元配列だけを扱える仕様にします。なお、NumPyの多次元配列のクラスは、<code>numpy.ndarray</code>（<code>np.ndarray</code>）です。このインスタンスは、上のコードで示すように、<code>np.array</code>関数によって生成できます。なお本書では、これ以降<code>numpy.ndarray</code>インスタンスは、単に<code>ndarray</code>インスタンスと記載します。\n",
    "</div>"
   ]
  },
  {
   "cell_type": "markdown",
   "metadata": {
    "colab_type": "text",
    "id": "7-9siB31-9Fp"
   },
   "source": [
    "続いて、上のコードの`x`に新しいデータを代入してみます。それには、次のように書くことができます。"
   ]
  },
  {
   "cell_type": "code",
   "execution_count": 2,
   "metadata": {
    "colab": {
     "base_uri": "https://localhost:8080/",
     "height": 35
    },
    "colab_type": "code",
    "id": "UsLmP3Jq-9Fp",
    "outputId": "d093a2a8-9dbe-430a-a32a-d03787d90d0a"
   },
   "outputs": [
    {
     "name": "stdout",
     "output_type": "stream",
     "text": [
      "2.0\n"
     ]
    }
   ],
   "source": [
    "x.data = np.array(2.0)\n",
    "print(x.data)"
   ]
  },
  {
   "cell_type": "markdown",
   "metadata": {
    "colab_type": "text",
    "id": "vzcHclgl-9Ft"
   },
   "source": [
    "ここで示したように、`x.data = ...`と書けば、新しいデータが代入されます。これで、`Variable`クラスは「箱」として使えるようになりました。\n",
    "\n",
    "以上が本ステップで行う実装のすべてです。現在、`Variable`クラスにはわずか3行のコードしかありませんが、ここを出発点として、DeZeroをモダンなフレームワークへと作り上げていきます。"
   ]
  },
  {
   "cell_type": "markdown",
   "metadata": {
    "colab_type": "text",
    "id": "RkeDbZvL-9Ft"
   },
   "source": [
    "## 1.3 【補足】NumPyの多次元配列\n",
    "\n",
    "最後に、NumPyの多次元配列について簡単に補足します。多次元配列とは、数値などの要素が規則的に並んで集まったデータ構造です。要素の並びには“方向”があり、その方向は「次元」や「軸」と呼ばれます。**図1-2**に多次元配列の例を示します。\n",
    "\n",
    "<br>![img1-2](images/1-2.png)\n",
    "\n",
    "**図1-2** 多次元配列の例<br><br>\n",
    "\n",
    "**図1-2**は、左から順に、0次元配列、1次元配列、2次元配列です。それらはスカラ、ベクトル、行列と呼ばれます。スカラは単に1つの数を表します。ベクトルは1つの軸に沿って数が並び、行列は2つの軸に沿って数が並びます。"
   ]
  },
  {
   "cell_type": "markdown",
   "metadata": {
    "colab_type": "text",
    "id": "Pi_kI9pm-9Ft"
   },
   "source": [
    "<div class=\"alert alert-info\">\n",
    "\n",
    "<b>NOTE</b>\n",
    "\n",
    "多次元配列は<b>テンソル</b>とも呼ばれます。その場合、<b>図1-2</b>の例は、左から順に0階テンソル、1階テンソル、2階テンソルと呼ばれます。\n",
    "</div>"
   ]
  },
  {
   "cell_type": "markdown",
   "metadata": {
    "colab_type": "text",
    "id": "VhpcgN9O-9Fu"
   },
   "source": [
    "NumPyの`ndarray`インスタンスには、`ndim`というインスタンス変数があります。`ndim`とは、number of dimensionsの略で、多次元配列の「次元の数」を意味します。実際に使ってみると、次のようになります。"
   ]
  },
  {
   "cell_type": "code",
   "execution_count": 3,
   "metadata": {
    "colab": {
     "base_uri": "https://localhost:8080/",
     "height": 69
    },
    "colab_type": "code",
    "id": "YXTx8oyW-9Fu",
    "outputId": "e3637a47-752d-45f7-d659-1fc610158063"
   },
   "outputs": [
    {
     "name": "stdout",
     "output_type": "stream",
     "text": [
      "0\n",
      "1\n",
      "2\n"
     ]
    }
   ],
   "source": [
    "import numpy as np\n",
    "\n",
    "x = np.array(1)\n",
    "print(x.ndim)\n",
    "\n",
    "x = np.array([1, 2, 3])\n",
    "print(x.ndim)\n",
    "\n",
    "x = np.array([[1, 2, 3], [4, 5, 6]])\n",
    "print(x.ndim)"
   ]
  },
  {
   "cell_type": "markdown",
   "metadata": {
    "colab_type": "text",
    "id": "DNjZTLZz-9Fw"
   },
   "source": [
    "上記のように、インスタンス変数の`ndim`によって、次元の数が分かります。"
   ]
  },
  {
   "cell_type": "markdown",
   "metadata": {
    "colab_type": "text",
    "id": "kh0cTRDb-9Fx"
   },
   "source": [
    "<div class=\"alert alert-warning\">\n",
    "\n",
    "<b>WARNING</b>\n",
    "\n",
    "ベクトルを扱う場合に限っては「次元}」という言葉に注意が必要です。たとえば、<code>np.array([1,2,3])</code>はベクトルですが、これは3つの要素が並ぶため「3次元ベクトル」とも呼ばれます。この「ベクトルの次元」は、ベクトルの要素数を指します。一方、「3次元配列」と言った場合の「配列の次元」は、（要素ではなく）軸の数が3つあることを意味します。\n",
    "</div>"
   ]
  },
  {
   "cell_type": "code",
   "execution_count": null,
   "metadata": {
    "collapsed": true
   },
   "outputs": [],
   "source": []
  }
 ],
 "metadata": {
  "colab": {
   "collapsed_sections": [],
   "name": "step01.ipynb",
   "provenance": [],
   "version": "0.3.2"
  },
  "kernelspec": {
   "display_name": "Python 3",
   "language": "python",
   "name": "python3"
  },
  "language_info": {
   "codemirror_mode": {
    "name": "ipython",
    "version": 3
   },
   "file_extension": ".py",
   "mimetype": "text/x-python",
   "name": "python",
   "nbconvert_exporter": "python",
   "pygments_lexer": "ipython3",
   "version": "3.6.9"
  }
 },
 "nbformat": 4,
 "nbformat_minor": 1
}
